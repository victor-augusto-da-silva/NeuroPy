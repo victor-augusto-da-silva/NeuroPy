{
 "cells": [
  {
   "cell_type": "markdown",
   "metadata": {},
   "source": [
    "# Projeto de Analise de dados Referente a acidentes de carro\n",
    "\n",
    "### A base de dados utilizada tem como principais informações o pais, ano, mes, periodo do dia, visibilidade e numero de veiculos envolvidos\n",
    "\n",
    "Principais analises realizadas:\n",
    "    Quantidade de acidentes por país\n",
    "     Proporção de acidentes de acordo com o periodo do dia\n",
    "     Proporção de acidentes de acordo com a estrada\n",
    "     Acidentes de acordo com a visibilidade da via\n",
    "     Qtd de acidentes por ano\n",
    "     Condições climaticas\n",
    "     Custo médico e economico\n",
    "     Tempo de resposta por país"
   ]
  },
  {
   "cell_type": "code",
   "execution_count": 1,
   "metadata": {},
   "outputs": [
    {
     "data": {
      "text/html": [
       "<div>\n",
       "<style scoped>\n",
       "    .dataframe tbody tr th:only-of-type {\n",
       "        vertical-align: middle;\n",
       "    }\n",
       "\n",
       "    .dataframe tbody tr th {\n",
       "        vertical-align: top;\n",
       "    }\n",
       "\n",
       "    .dataframe thead th {\n",
       "        text-align: right;\n",
       "    }\n",
       "</style>\n",
       "<table border=\"1\" class=\"dataframe\">\n",
       "  <thead>\n",
       "    <tr style=\"text-align: right;\">\n",
       "      <th></th>\n",
       "      <th>Country</th>\n",
       "      <th>Year</th>\n",
       "      <th>Month</th>\n",
       "      <th>Day of Week</th>\n",
       "      <th>Time of Day</th>\n",
       "      <th>Urban/Rural</th>\n",
       "      <th>Road Type</th>\n",
       "      <th>Weather Conditions</th>\n",
       "      <th>Visibility Level</th>\n",
       "      <th>Number of Vehicles Involved</th>\n",
       "      <th>...</th>\n",
       "      <th>Number of Fatalities</th>\n",
       "      <th>Emergency Response Time</th>\n",
       "      <th>Traffic Volume</th>\n",
       "      <th>Road Condition</th>\n",
       "      <th>Accident Cause</th>\n",
       "      <th>Insurance Claims</th>\n",
       "      <th>Medical Cost</th>\n",
       "      <th>Economic Loss</th>\n",
       "      <th>Region</th>\n",
       "      <th>Population Density</th>\n",
       "    </tr>\n",
       "  </thead>\n",
       "  <tbody>\n",
       "    <tr>\n",
       "      <th>0</th>\n",
       "      <td>USA</td>\n",
       "      <td>2002</td>\n",
       "      <td>October</td>\n",
       "      <td>Tuesday</td>\n",
       "      <td>Evening</td>\n",
       "      <td>Rural</td>\n",
       "      <td>Street</td>\n",
       "      <td>Windy</td>\n",
       "      <td>220.414651</td>\n",
       "      <td>1</td>\n",
       "      <td>...</td>\n",
       "      <td>2</td>\n",
       "      <td>58.625720</td>\n",
       "      <td>7412.752760</td>\n",
       "      <td>Wet</td>\n",
       "      <td>Weather</td>\n",
       "      <td>4</td>\n",
       "      <td>40499.856982</td>\n",
       "      <td>22072.878502</td>\n",
       "      <td>Europe</td>\n",
       "      <td>3866.273014</td>\n",
       "    </tr>\n",
       "    <tr>\n",
       "      <th>1</th>\n",
       "      <td>UK</td>\n",
       "      <td>2014</td>\n",
       "      <td>December</td>\n",
       "      <td>Saturday</td>\n",
       "      <td>Evening</td>\n",
       "      <td>Urban</td>\n",
       "      <td>Street</td>\n",
       "      <td>Windy</td>\n",
       "      <td>168.311358</td>\n",
       "      <td>3</td>\n",
       "      <td>...</td>\n",
       "      <td>1</td>\n",
       "      <td>58.041380</td>\n",
       "      <td>4458.628820</td>\n",
       "      <td>Snow-covered</td>\n",
       "      <td>Mechanical Failure</td>\n",
       "      <td>3</td>\n",
       "      <td>6486.600073</td>\n",
       "      <td>9534.399441</td>\n",
       "      <td>North America</td>\n",
       "      <td>2333.916224</td>\n",
       "    </tr>\n",
       "    <tr>\n",
       "      <th>2</th>\n",
       "      <td>USA</td>\n",
       "      <td>2012</td>\n",
       "      <td>July</td>\n",
       "      <td>Sunday</td>\n",
       "      <td>Afternoon</td>\n",
       "      <td>Urban</td>\n",
       "      <td>Highway</td>\n",
       "      <td>Snowy</td>\n",
       "      <td>341.286506</td>\n",
       "      <td>4</td>\n",
       "      <td>...</td>\n",
       "      <td>4</td>\n",
       "      <td>42.374452</td>\n",
       "      <td>9856.915064</td>\n",
       "      <td>Wet</td>\n",
       "      <td>Speeding</td>\n",
       "      <td>4</td>\n",
       "      <td>29164.412982</td>\n",
       "      <td>58009.145124</td>\n",
       "      <td>South America</td>\n",
       "      <td>4408.889129</td>\n",
       "    </tr>\n",
       "    <tr>\n",
       "      <th>3</th>\n",
       "      <td>UK</td>\n",
       "      <td>2017</td>\n",
       "      <td>May</td>\n",
       "      <td>Saturday</td>\n",
       "      <td>Evening</td>\n",
       "      <td>Urban</td>\n",
       "      <td>Main Road</td>\n",
       "      <td>Clear</td>\n",
       "      <td>489.384536</td>\n",
       "      <td>2</td>\n",
       "      <td>...</td>\n",
       "      <td>3</td>\n",
       "      <td>48.554014</td>\n",
       "      <td>4958.646267</td>\n",
       "      <td>Icy</td>\n",
       "      <td>Distracted Driving</td>\n",
       "      <td>3</td>\n",
       "      <td>25797.212566</td>\n",
       "      <td>20907.151302</td>\n",
       "      <td>Australia</td>\n",
       "      <td>2810.822423</td>\n",
       "    </tr>\n",
       "    <tr>\n",
       "      <th>4</th>\n",
       "      <td>Canada</td>\n",
       "      <td>2002</td>\n",
       "      <td>July</td>\n",
       "      <td>Tuesday</td>\n",
       "      <td>Afternoon</td>\n",
       "      <td>Rural</td>\n",
       "      <td>Highway</td>\n",
       "      <td>Rainy</td>\n",
       "      <td>348.344850</td>\n",
       "      <td>1</td>\n",
       "      <td>...</td>\n",
       "      <td>4</td>\n",
       "      <td>18.318250</td>\n",
       "      <td>3843.191463</td>\n",
       "      <td>Icy</td>\n",
       "      <td>Distracted Driving</td>\n",
       "      <td>8</td>\n",
       "      <td>15605.293921</td>\n",
       "      <td>13584.060759</td>\n",
       "      <td>South America</td>\n",
       "      <td>3883.645634</td>\n",
       "    </tr>\n",
       "    <tr>\n",
       "      <th>...</th>\n",
       "      <td>...</td>\n",
       "      <td>...</td>\n",
       "      <td>...</td>\n",
       "      <td>...</td>\n",
       "      <td>...</td>\n",
       "      <td>...</td>\n",
       "      <td>...</td>\n",
       "      <td>...</td>\n",
       "      <td>...</td>\n",
       "      <td>...</td>\n",
       "      <td>...</td>\n",
       "      <td>...</td>\n",
       "      <td>...</td>\n",
       "      <td>...</td>\n",
       "      <td>...</td>\n",
       "      <td>...</td>\n",
       "      <td>...</td>\n",
       "      <td>...</td>\n",
       "      <td>...</td>\n",
       "      <td>...</td>\n",
       "      <td>...</td>\n",
       "    </tr>\n",
       "    <tr>\n",
       "      <th>131995</th>\n",
       "      <td>Germany</td>\n",
       "      <td>2023</td>\n",
       "      <td>June</td>\n",
       "      <td>Wednesday</td>\n",
       "      <td>Evening</td>\n",
       "      <td>Rural</td>\n",
       "      <td>Main Road</td>\n",
       "      <td>Foggy</td>\n",
       "      <td>351.740871</td>\n",
       "      <td>4</td>\n",
       "      <td>...</td>\n",
       "      <td>0</td>\n",
       "      <td>37.405598</td>\n",
       "      <td>1907.208566</td>\n",
       "      <td>Icy</td>\n",
       "      <td>Speeding</td>\n",
       "      <td>3</td>\n",
       "      <td>18640.125887</td>\n",
       "      <td>50695.311876</td>\n",
       "      <td>Asia</td>\n",
       "      <td>173.307333</td>\n",
       "    </tr>\n",
       "    <tr>\n",
       "      <th>131996</th>\n",
       "      <td>Brazil</td>\n",
       "      <td>2023</td>\n",
       "      <td>January</td>\n",
       "      <td>Tuesday</td>\n",
       "      <td>Morning</td>\n",
       "      <td>Rural</td>\n",
       "      <td>Main Road</td>\n",
       "      <td>Foggy</td>\n",
       "      <td>95.563567</td>\n",
       "      <td>1</td>\n",
       "      <td>...</td>\n",
       "      <td>4</td>\n",
       "      <td>17.054490</td>\n",
       "      <td>2706.253339</td>\n",
       "      <td>Dry</td>\n",
       "      <td>Drunk Driving</td>\n",
       "      <td>2</td>\n",
       "      <td>48161.129965</td>\n",
       "      <td>20260.167191</td>\n",
       "      <td>Asia</td>\n",
       "      <td>4375.443810</td>\n",
       "    </tr>\n",
       "    <tr>\n",
       "      <th>131997</th>\n",
       "      <td>Russia</td>\n",
       "      <td>2021</td>\n",
       "      <td>March</td>\n",
       "      <td>Wednesday</td>\n",
       "      <td>Afternoon</td>\n",
       "      <td>Urban</td>\n",
       "      <td>Street</td>\n",
       "      <td>Clear</td>\n",
       "      <td>74.112102</td>\n",
       "      <td>3</td>\n",
       "      <td>...</td>\n",
       "      <td>3</td>\n",
       "      <td>55.558876</td>\n",
       "      <td>6860.161645</td>\n",
       "      <td>Dry</td>\n",
       "      <td>Speeding</td>\n",
       "      <td>9</td>\n",
       "      <td>24696.058692</td>\n",
       "      <td>8132.133502</td>\n",
       "      <td>Asia</td>\n",
       "      <td>4196.244517</td>\n",
       "    </tr>\n",
       "    <tr>\n",
       "      <th>131998</th>\n",
       "      <td>Australia</td>\n",
       "      <td>2002</td>\n",
       "      <td>May</td>\n",
       "      <td>Tuesday</td>\n",
       "      <td>Morning</td>\n",
       "      <td>Urban</td>\n",
       "      <td>Street</td>\n",
       "      <td>Rainy</td>\n",
       "      <td>276.612565</td>\n",
       "      <td>3</td>\n",
       "      <td>...</td>\n",
       "      <td>2</td>\n",
       "      <td>19.100498</td>\n",
       "      <td>1523.299088</td>\n",
       "      <td>Wet</td>\n",
       "      <td>Speeding</td>\n",
       "      <td>8</td>\n",
       "      <td>13486.716680</td>\n",
       "      <td>17607.573072</td>\n",
       "      <td>Europe</td>\n",
       "      <td>2911.904030</td>\n",
       "    </tr>\n",
       "    <tr>\n",
       "      <th>131999</th>\n",
       "      <td>USA</td>\n",
       "      <td>2022</td>\n",
       "      <td>November</td>\n",
       "      <td>Tuesday</td>\n",
       "      <td>Morning</td>\n",
       "      <td>Urban</td>\n",
       "      <td>Street</td>\n",
       "      <td>Windy</td>\n",
       "      <td>253.531380</td>\n",
       "      <td>3</td>\n",
       "      <td>...</td>\n",
       "      <td>4</td>\n",
       "      <td>28.037108</td>\n",
       "      <td>7662.853082</td>\n",
       "      <td>Snow-covered</td>\n",
       "      <td>Speeding</td>\n",
       "      <td>6</td>\n",
       "      <td>3240.358544</td>\n",
       "      <td>27765.168982</td>\n",
       "      <td>Asia</td>\n",
       "      <td>2949.568694</td>\n",
       "    </tr>\n",
       "  </tbody>\n",
       "</table>\n",
       "<p>132000 rows × 30 columns</p>\n",
       "</div>"
      ],
      "text/plain": [
       "          Country  Year     Month Day of Week Time of Day Urban/Rural  \\\n",
       "0             USA  2002   October     Tuesday     Evening       Rural   \n",
       "1              UK  2014  December    Saturday     Evening       Urban   \n",
       "2             USA  2012      July      Sunday   Afternoon       Urban   \n",
       "3              UK  2017       May    Saturday     Evening       Urban   \n",
       "4          Canada  2002      July     Tuesday   Afternoon       Rural   \n",
       "...           ...   ...       ...         ...         ...         ...   \n",
       "131995    Germany  2023      June   Wednesday     Evening       Rural   \n",
       "131996     Brazil  2023   January     Tuesday     Morning       Rural   \n",
       "131997     Russia  2021     March   Wednesday   Afternoon       Urban   \n",
       "131998  Australia  2002       May     Tuesday     Morning       Urban   \n",
       "131999        USA  2022  November     Tuesday     Morning       Urban   \n",
       "\n",
       "        Road Type Weather Conditions  Visibility Level  \\\n",
       "0          Street              Windy        220.414651   \n",
       "1          Street              Windy        168.311358   \n",
       "2         Highway              Snowy        341.286506   \n",
       "3       Main Road              Clear        489.384536   \n",
       "4         Highway              Rainy        348.344850   \n",
       "...           ...                ...               ...   \n",
       "131995  Main Road              Foggy        351.740871   \n",
       "131996  Main Road              Foggy         95.563567   \n",
       "131997     Street              Clear         74.112102   \n",
       "131998     Street              Rainy        276.612565   \n",
       "131999     Street              Windy        253.531380   \n",
       "\n",
       "        Number of Vehicles Involved  ...  Number of Fatalities  \\\n",
       "0                                 1  ...                     2   \n",
       "1                                 3  ...                     1   \n",
       "2                                 4  ...                     4   \n",
       "3                                 2  ...                     3   \n",
       "4                                 1  ...                     4   \n",
       "...                             ...  ...                   ...   \n",
       "131995                            4  ...                     0   \n",
       "131996                            1  ...                     4   \n",
       "131997                            3  ...                     3   \n",
       "131998                            3  ...                     2   \n",
       "131999                            3  ...                     4   \n",
       "\n",
       "       Emergency Response Time Traffic Volume  Road Condition  \\\n",
       "0                    58.625720    7412.752760             Wet   \n",
       "1                    58.041380    4458.628820    Snow-covered   \n",
       "2                    42.374452    9856.915064             Wet   \n",
       "3                    48.554014    4958.646267             Icy   \n",
       "4                    18.318250    3843.191463             Icy   \n",
       "...                        ...            ...             ...   \n",
       "131995               37.405598    1907.208566             Icy   \n",
       "131996               17.054490    2706.253339             Dry   \n",
       "131997               55.558876    6860.161645             Dry   \n",
       "131998               19.100498    1523.299088             Wet   \n",
       "131999               28.037108    7662.853082    Snow-covered   \n",
       "\n",
       "            Accident Cause Insurance Claims  Medical Cost  Economic Loss  \\\n",
       "0                  Weather                4  40499.856982   22072.878502   \n",
       "1       Mechanical Failure                3   6486.600073    9534.399441   \n",
       "2                 Speeding                4  29164.412982   58009.145124   \n",
       "3       Distracted Driving                3  25797.212566   20907.151302   \n",
       "4       Distracted Driving                8  15605.293921   13584.060759   \n",
       "...                    ...              ...           ...            ...   \n",
       "131995            Speeding                3  18640.125887   50695.311876   \n",
       "131996       Drunk Driving                2  48161.129965   20260.167191   \n",
       "131997            Speeding                9  24696.058692    8132.133502   \n",
       "131998            Speeding                8  13486.716680   17607.573072   \n",
       "131999            Speeding                6   3240.358544   27765.168982   \n",
       "\n",
       "               Region  Population Density  \n",
       "0              Europe         3866.273014  \n",
       "1       North America         2333.916224  \n",
       "2       South America         4408.889129  \n",
       "3           Australia         2810.822423  \n",
       "4       South America         3883.645634  \n",
       "...               ...                 ...  \n",
       "131995           Asia          173.307333  \n",
       "131996           Asia         4375.443810  \n",
       "131997           Asia         4196.244517  \n",
       "131998         Europe         2911.904030  \n",
       "131999           Asia         2949.568694  \n",
       "\n",
       "[132000 rows x 30 columns]"
      ]
     },
     "metadata": {},
     "output_type": "display_data"
    }
   ],
   "source": [
    "import pandas as pd\n",
    "\n",
    "tabela = pd.read_csv(r\"C:\\Users\\victo\\Downloads\\road_accident_dataset.csv\")\n",
    "\n",
    "display(tabela)"
   ]
  },
  {
   "cell_type": "markdown",
   "metadata": {},
   "source": [
    "Tratamento de dados"
   ]
  },
  {
   "cell_type": "code",
   "execution_count": 3,
   "metadata": {},
   "outputs": [
    {
     "name": "stdout",
     "output_type": "stream",
     "text": [
      "<class 'pandas.core.frame.DataFrame'>\n",
      "RangeIndex: 132000 entries, 0 to 131999\n",
      "Data columns (total 31 columns):\n",
      " #   Column                    Non-Null Count   Dtype  \n",
      "---  ------                    --------------   -----  \n",
      " 0   Country                   132000 non-null  object \n",
      " 1   Year                      132000 non-null  int64  \n",
      " 2   Month                     132000 non-null  object \n",
      " 3   Day of Week               132000 non-null  object \n",
      " 4   Time of Day               132000 non-null  object \n",
      " 5   Urban/Rural               132000 non-null  object \n",
      " 6   Road Type                 132000 non-null  object \n",
      " 7   Weather                   132000 non-null  object \n",
      " 8   Visibility                132000 non-null  float64\n",
      " 9   Number_Vehicles_Involved  132000 non-null  int64  \n",
      " 10  Speed Limit               132000 non-null  int64  \n",
      " 11  Driver Age Group          132000 non-null  object \n",
      " 12  Driver Gender             132000 non-null  object \n",
      " 13  Driver Alcohol Level      132000 non-null  float64\n",
      " 14  Driver Fatigue            132000 non-null  int64  \n",
      " 15  Vehicle Condition         132000 non-null  object \n",
      " 16  Pedestrians Involved      132000 non-null  int64  \n",
      " 17  Cyclists Involved         132000 non-null  int64  \n",
      " 18  Accident Severity         132000 non-null  object \n",
      " 19  Number_Injuries           132000 non-null  int64  \n",
      " 20  Number_Fatalities         132000 non-null  int64  \n",
      " 21  Emergency Response Time   132000 non-null  float64\n",
      " 22  Traffic Volume            132000 non-null  float64\n",
      " 23  Road Condition            132000 non-null  object \n",
      " 24  Accident Cause            132000 non-null  object \n",
      " 25  Insurance Claims          132000 non-null  int64  \n",
      " 26  Medical_Cost              132000 non-null  float64\n",
      " 27  Economic_Loss             132000 non-null  float64\n",
      " 28  Region                    132000 non-null  object \n",
      " 29  Population Density        132000 non-null  float64\n",
      " 30  Number_People_Injured     132000 non-null  int64  \n",
      "dtypes: float64(7), int64(10), object(14)\n",
      "memory usage: 31.2+ MB\n"
     ]
    },
    {
     "data": {
      "text/plain": [
       "None"
      ]
     },
     "metadata": {},
     "output_type": "display_data"
    }
   ],
   "source": [
    "tabela = tabela.dropna()\n",
    "tabela = tabela.rename(columns={\n",
    "\t'Visibility Level' : 'Visibility',\n",
    "\t'Weather Conditions': 'Weather',\n",
    "\t'Number of Vehicles Involved': 'Number_Vehicles_Involved',\n",
    "\t'Economic Loss':'Economic_Loss',\n",
    "    'Medical Cost': 'Medical_Cost',\n",
    "    'Number of Injuries': 'Number_Injuries',\n",
    "    'Number of Fatalities': 'Number_Fatalities'\n",
    "})\n",
    " \n",
    "tabela['Number_People_Injured'] = tabela['Number_Injuries'] + tabela['Number_Fatalities']\n",
    "\n",
    " \n",
    "\n",
    "\n",
    "display(tabela.info())"
   ]
  },
  {
   "cell_type": "code",
   "execution_count": 4,
   "metadata": {},
   "outputs": [],
   "source": [
    "acidentes_por_pais = tabela.groupby('Country')['Country'].count().reset_index(name='Total_Acidentes')\n",
    "quantidade_de_acidentes_por_ano = tabela.groupby('Year').size().reset_index(name='Quantidade_de_acidentes_por_ano')\n",
    "acidentes_rodovias = tabela.groupby(['Country', 'Weather']).size().reset_index(name='acidentes_rodovias')\n",
    "total_gasto = tabela.groupby(['Country', 'Number_Vehicles_Involved', 'Number_People_Injured'])[['Economic_Loss', 'Medical_Cost']].sum().reset_index()\n"
   ]
  },
  {
   "cell_type": "code",
   "execution_count": 5,
   "metadata": {},
   "outputs": [
    {
     "name": "stdout",
     "output_type": "stream",
     "text": [
      "\n",
      "Acidentes_Por_Pais\n"
     ]
    },
    {
     "data": {
      "text/html": [
       "<div>\n",
       "<style scoped>\n",
       "    .dataframe tbody tr th:only-of-type {\n",
       "        vertical-align: middle;\n",
       "    }\n",
       "\n",
       "    .dataframe tbody tr th {\n",
       "        vertical-align: top;\n",
       "    }\n",
       "\n",
       "    .dataframe thead th {\n",
       "        text-align: right;\n",
       "    }\n",
       "</style>\n",
       "<table border=\"1\" class=\"dataframe\">\n",
       "  <thead>\n",
       "    <tr style=\"text-align: right;\">\n",
       "      <th></th>\n",
       "      <th>Country</th>\n",
       "      <th>Total_Acidentes</th>\n",
       "    </tr>\n",
       "  </thead>\n",
       "  <tbody>\n",
       "    <tr>\n",
       "      <th>0</th>\n",
       "      <td>Australia</td>\n",
       "      <td>13345</td>\n",
       "    </tr>\n",
       "    <tr>\n",
       "      <th>1</th>\n",
       "      <td>Brazil</td>\n",
       "      <td>13318</td>\n",
       "    </tr>\n",
       "    <tr>\n",
       "      <th>2</th>\n",
       "      <td>Canada</td>\n",
       "      <td>13349</td>\n",
       "    </tr>\n",
       "    <tr>\n",
       "      <th>3</th>\n",
       "      <td>China</td>\n",
       "      <td>13121</td>\n",
       "    </tr>\n",
       "    <tr>\n",
       "      <th>4</th>\n",
       "      <td>Germany</td>\n",
       "      <td>13293</td>\n",
       "    </tr>\n",
       "    <tr>\n",
       "      <th>5</th>\n",
       "      <td>India</td>\n",
       "      <td>13238</td>\n",
       "    </tr>\n",
       "    <tr>\n",
       "      <th>6</th>\n",
       "      <td>Japan</td>\n",
       "      <td>13049</td>\n",
       "    </tr>\n",
       "    <tr>\n",
       "      <th>7</th>\n",
       "      <td>Russia</td>\n",
       "      <td>12976</td>\n",
       "    </tr>\n",
       "    <tr>\n",
       "      <th>8</th>\n",
       "      <td>UK</td>\n",
       "      <td>13186</td>\n",
       "    </tr>\n",
       "    <tr>\n",
       "      <th>9</th>\n",
       "      <td>USA</td>\n",
       "      <td>13125</td>\n",
       "    </tr>\n",
       "  </tbody>\n",
       "</table>\n",
       "</div>"
      ],
      "text/plain": [
       "     Country  Total_Acidentes\n",
       "0  Australia            13345\n",
       "1     Brazil            13318\n",
       "2     Canada            13349\n",
       "3      China            13121\n",
       "4    Germany            13293\n",
       "5      India            13238\n",
       "6      Japan            13049\n",
       "7     Russia            12976\n",
       "8         UK            13186\n",
       "9        USA            13125"
      ]
     },
     "metadata": {},
     "output_type": "display_data"
    },
    {
     "name": "stdout",
     "output_type": "stream",
     "text": [
      "\n",
      "Quantidade_de_acidentes_por_ano\n"
     ]
    },
    {
     "data": {
      "text/html": [
       "<div>\n",
       "<style scoped>\n",
       "    .dataframe tbody tr th:only-of-type {\n",
       "        vertical-align: middle;\n",
       "    }\n",
       "\n",
       "    .dataframe tbody tr th {\n",
       "        vertical-align: top;\n",
       "    }\n",
       "\n",
       "    .dataframe thead th {\n",
       "        text-align: right;\n",
       "    }\n",
       "</style>\n",
       "<table border=\"1\" class=\"dataframe\">\n",
       "  <thead>\n",
       "    <tr style=\"text-align: right;\">\n",
       "      <th></th>\n",
       "      <th>Year</th>\n",
       "      <th>Quantidade_de_acidentes_por_ano</th>\n",
       "    </tr>\n",
       "  </thead>\n",
       "  <tbody>\n",
       "    <tr>\n",
       "      <th>0</th>\n",
       "      <td>2000</td>\n",
       "      <td>5280</td>\n",
       "    </tr>\n",
       "    <tr>\n",
       "      <th>1</th>\n",
       "      <td>2001</td>\n",
       "      <td>5263</td>\n",
       "    </tr>\n",
       "    <tr>\n",
       "      <th>2</th>\n",
       "      <td>2002</td>\n",
       "      <td>5433</td>\n",
       "    </tr>\n",
       "    <tr>\n",
       "      <th>3</th>\n",
       "      <td>2003</td>\n",
       "      <td>5327</td>\n",
       "    </tr>\n",
       "    <tr>\n",
       "      <th>4</th>\n",
       "      <td>2004</td>\n",
       "      <td>5180</td>\n",
       "    </tr>\n",
       "    <tr>\n",
       "      <th>5</th>\n",
       "      <td>2005</td>\n",
       "      <td>5302</td>\n",
       "    </tr>\n",
       "    <tr>\n",
       "      <th>6</th>\n",
       "      <td>2006</td>\n",
       "      <td>5156</td>\n",
       "    </tr>\n",
       "    <tr>\n",
       "      <th>7</th>\n",
       "      <td>2007</td>\n",
       "      <td>5307</td>\n",
       "    </tr>\n",
       "    <tr>\n",
       "      <th>8</th>\n",
       "      <td>2008</td>\n",
       "      <td>5409</td>\n",
       "    </tr>\n",
       "    <tr>\n",
       "      <th>9</th>\n",
       "      <td>2009</td>\n",
       "      <td>5298</td>\n",
       "    </tr>\n",
       "    <tr>\n",
       "      <th>10</th>\n",
       "      <td>2010</td>\n",
       "      <td>5144</td>\n",
       "    </tr>\n",
       "    <tr>\n",
       "      <th>11</th>\n",
       "      <td>2011</td>\n",
       "      <td>5356</td>\n",
       "    </tr>\n",
       "    <tr>\n",
       "      <th>12</th>\n",
       "      <td>2012</td>\n",
       "      <td>5327</td>\n",
       "    </tr>\n",
       "    <tr>\n",
       "      <th>13</th>\n",
       "      <td>2013</td>\n",
       "      <td>5220</td>\n",
       "    </tr>\n",
       "    <tr>\n",
       "      <th>14</th>\n",
       "      <td>2014</td>\n",
       "      <td>5351</td>\n",
       "    </tr>\n",
       "    <tr>\n",
       "      <th>15</th>\n",
       "      <td>2015</td>\n",
       "      <td>5331</td>\n",
       "    </tr>\n",
       "    <tr>\n",
       "      <th>16</th>\n",
       "      <td>2016</td>\n",
       "      <td>5377</td>\n",
       "    </tr>\n",
       "    <tr>\n",
       "      <th>17</th>\n",
       "      <td>2017</td>\n",
       "      <td>5278</td>\n",
       "    </tr>\n",
       "    <tr>\n",
       "      <th>18</th>\n",
       "      <td>2018</td>\n",
       "      <td>5295</td>\n",
       "    </tr>\n",
       "    <tr>\n",
       "      <th>19</th>\n",
       "      <td>2019</td>\n",
       "      <td>5243</td>\n",
       "    </tr>\n",
       "    <tr>\n",
       "      <th>20</th>\n",
       "      <td>2020</td>\n",
       "      <td>5308</td>\n",
       "    </tr>\n",
       "    <tr>\n",
       "      <th>21</th>\n",
       "      <td>2021</td>\n",
       "      <td>5243</td>\n",
       "    </tr>\n",
       "    <tr>\n",
       "      <th>22</th>\n",
       "      <td>2022</td>\n",
       "      <td>5175</td>\n",
       "    </tr>\n",
       "    <tr>\n",
       "      <th>23</th>\n",
       "      <td>2023</td>\n",
       "      <td>5242</td>\n",
       "    </tr>\n",
       "    <tr>\n",
       "      <th>24</th>\n",
       "      <td>2024</td>\n",
       "      <td>5155</td>\n",
       "    </tr>\n",
       "  </tbody>\n",
       "</table>\n",
       "</div>"
      ],
      "text/plain": [
       "    Year  Quantidade_de_acidentes_por_ano\n",
       "0   2000                             5280\n",
       "1   2001                             5263\n",
       "2   2002                             5433\n",
       "3   2003                             5327\n",
       "4   2004                             5180\n",
       "5   2005                             5302\n",
       "6   2006                             5156\n",
       "7   2007                             5307\n",
       "8   2008                             5409\n",
       "9   2009                             5298\n",
       "10  2010                             5144\n",
       "11  2011                             5356\n",
       "12  2012                             5327\n",
       "13  2013                             5220\n",
       "14  2014                             5351\n",
       "15  2015                             5331\n",
       "16  2016                             5377\n",
       "17  2017                             5278\n",
       "18  2018                             5295\n",
       "19  2019                             5243\n",
       "20  2020                             5308\n",
       "21  2021                             5243\n",
       "22  2022                             5175\n",
       "23  2023                             5242\n",
       "24  2024                             5155"
      ]
     },
     "metadata": {},
     "output_type": "display_data"
    },
    {
     "name": "stdout",
     "output_type": "stream",
     "text": [
      "\n",
      "Acidentes_rodovias\n"
     ]
    },
    {
     "data": {
      "text/html": [
       "<div>\n",
       "<style scoped>\n",
       "    .dataframe tbody tr th:only-of-type {\n",
       "        vertical-align: middle;\n",
       "    }\n",
       "\n",
       "    .dataframe tbody tr th {\n",
       "        vertical-align: top;\n",
       "    }\n",
       "\n",
       "    .dataframe thead th {\n",
       "        text-align: right;\n",
       "    }\n",
       "</style>\n",
       "<table border=\"1\" class=\"dataframe\">\n",
       "  <thead>\n",
       "    <tr style=\"text-align: right;\">\n",
       "      <th></th>\n",
       "      <th>Country</th>\n",
       "      <th>Weather</th>\n",
       "      <th>acidentes_rodovias</th>\n",
       "    </tr>\n",
       "  </thead>\n",
       "  <tbody>\n",
       "    <tr>\n",
       "      <th>0</th>\n",
       "      <td>Australia</td>\n",
       "      <td>Clear</td>\n",
       "      <td>2632</td>\n",
       "    </tr>\n",
       "    <tr>\n",
       "      <th>1</th>\n",
       "      <td>Australia</td>\n",
       "      <td>Foggy</td>\n",
       "      <td>2660</td>\n",
       "    </tr>\n",
       "    <tr>\n",
       "      <th>2</th>\n",
       "      <td>Australia</td>\n",
       "      <td>Rainy</td>\n",
       "      <td>2662</td>\n",
       "    </tr>\n",
       "    <tr>\n",
       "      <th>3</th>\n",
       "      <td>Australia</td>\n",
       "      <td>Snowy</td>\n",
       "      <td>2751</td>\n",
       "    </tr>\n",
       "    <tr>\n",
       "      <th>4</th>\n",
       "      <td>Australia</td>\n",
       "      <td>Windy</td>\n",
       "      <td>2640</td>\n",
       "    </tr>\n",
       "    <tr>\n",
       "      <th>5</th>\n",
       "      <td>Brazil</td>\n",
       "      <td>Clear</td>\n",
       "      <td>2647</td>\n",
       "    </tr>\n",
       "    <tr>\n",
       "      <th>6</th>\n",
       "      <td>Brazil</td>\n",
       "      <td>Foggy</td>\n",
       "      <td>2642</td>\n",
       "    </tr>\n",
       "    <tr>\n",
       "      <th>7</th>\n",
       "      <td>Brazil</td>\n",
       "      <td>Rainy</td>\n",
       "      <td>2645</td>\n",
       "    </tr>\n",
       "    <tr>\n",
       "      <th>8</th>\n",
       "      <td>Brazil</td>\n",
       "      <td>Snowy</td>\n",
       "      <td>2633</td>\n",
       "    </tr>\n",
       "    <tr>\n",
       "      <th>9</th>\n",
       "      <td>Brazil</td>\n",
       "      <td>Windy</td>\n",
       "      <td>2751</td>\n",
       "    </tr>\n",
       "    <tr>\n",
       "      <th>10</th>\n",
       "      <td>Canada</td>\n",
       "      <td>Clear</td>\n",
       "      <td>2676</td>\n",
       "    </tr>\n",
       "    <tr>\n",
       "      <th>11</th>\n",
       "      <td>Canada</td>\n",
       "      <td>Foggy</td>\n",
       "      <td>2681</td>\n",
       "    </tr>\n",
       "    <tr>\n",
       "      <th>12</th>\n",
       "      <td>Canada</td>\n",
       "      <td>Rainy</td>\n",
       "      <td>2694</td>\n",
       "    </tr>\n",
       "    <tr>\n",
       "      <th>13</th>\n",
       "      <td>Canada</td>\n",
       "      <td>Snowy</td>\n",
       "      <td>2641</td>\n",
       "    </tr>\n",
       "    <tr>\n",
       "      <th>14</th>\n",
       "      <td>Canada</td>\n",
       "      <td>Windy</td>\n",
       "      <td>2657</td>\n",
       "    </tr>\n",
       "    <tr>\n",
       "      <th>15</th>\n",
       "      <td>China</td>\n",
       "      <td>Clear</td>\n",
       "      <td>2551</td>\n",
       "    </tr>\n",
       "    <tr>\n",
       "      <th>16</th>\n",
       "      <td>China</td>\n",
       "      <td>Foggy</td>\n",
       "      <td>2638</td>\n",
       "    </tr>\n",
       "    <tr>\n",
       "      <th>17</th>\n",
       "      <td>China</td>\n",
       "      <td>Rainy</td>\n",
       "      <td>2621</td>\n",
       "    </tr>\n",
       "    <tr>\n",
       "      <th>18</th>\n",
       "      <td>China</td>\n",
       "      <td>Snowy</td>\n",
       "      <td>2596</td>\n",
       "    </tr>\n",
       "    <tr>\n",
       "      <th>19</th>\n",
       "      <td>China</td>\n",
       "      <td>Windy</td>\n",
       "      <td>2715</td>\n",
       "    </tr>\n",
       "    <tr>\n",
       "      <th>20</th>\n",
       "      <td>Germany</td>\n",
       "      <td>Clear</td>\n",
       "      <td>2707</td>\n",
       "    </tr>\n",
       "    <tr>\n",
       "      <th>21</th>\n",
       "      <td>Germany</td>\n",
       "      <td>Foggy</td>\n",
       "      <td>2568</td>\n",
       "    </tr>\n",
       "    <tr>\n",
       "      <th>22</th>\n",
       "      <td>Germany</td>\n",
       "      <td>Rainy</td>\n",
       "      <td>2660</td>\n",
       "    </tr>\n",
       "    <tr>\n",
       "      <th>23</th>\n",
       "      <td>Germany</td>\n",
       "      <td>Snowy</td>\n",
       "      <td>2634</td>\n",
       "    </tr>\n",
       "    <tr>\n",
       "      <th>24</th>\n",
       "      <td>Germany</td>\n",
       "      <td>Windy</td>\n",
       "      <td>2724</td>\n",
       "    </tr>\n",
       "    <tr>\n",
       "      <th>25</th>\n",
       "      <td>India</td>\n",
       "      <td>Clear</td>\n",
       "      <td>2622</td>\n",
       "    </tr>\n",
       "    <tr>\n",
       "      <th>26</th>\n",
       "      <td>India</td>\n",
       "      <td>Foggy</td>\n",
       "      <td>2667</td>\n",
       "    </tr>\n",
       "    <tr>\n",
       "      <th>27</th>\n",
       "      <td>India</td>\n",
       "      <td>Rainy</td>\n",
       "      <td>2684</td>\n",
       "    </tr>\n",
       "    <tr>\n",
       "      <th>28</th>\n",
       "      <td>India</td>\n",
       "      <td>Snowy</td>\n",
       "      <td>2630</td>\n",
       "    </tr>\n",
       "    <tr>\n",
       "      <th>29</th>\n",
       "      <td>India</td>\n",
       "      <td>Windy</td>\n",
       "      <td>2635</td>\n",
       "    </tr>\n",
       "    <tr>\n",
       "      <th>30</th>\n",
       "      <td>Japan</td>\n",
       "      <td>Clear</td>\n",
       "      <td>2675</td>\n",
       "    </tr>\n",
       "    <tr>\n",
       "      <th>31</th>\n",
       "      <td>Japan</td>\n",
       "      <td>Foggy</td>\n",
       "      <td>2615</td>\n",
       "    </tr>\n",
       "    <tr>\n",
       "      <th>32</th>\n",
       "      <td>Japan</td>\n",
       "      <td>Rainy</td>\n",
       "      <td>2548</td>\n",
       "    </tr>\n",
       "    <tr>\n",
       "      <th>33</th>\n",
       "      <td>Japan</td>\n",
       "      <td>Snowy</td>\n",
       "      <td>2573</td>\n",
       "    </tr>\n",
       "    <tr>\n",
       "      <th>34</th>\n",
       "      <td>Japan</td>\n",
       "      <td>Windy</td>\n",
       "      <td>2638</td>\n",
       "    </tr>\n",
       "    <tr>\n",
       "      <th>35</th>\n",
       "      <td>Russia</td>\n",
       "      <td>Clear</td>\n",
       "      <td>2560</td>\n",
       "    </tr>\n",
       "    <tr>\n",
       "      <th>36</th>\n",
       "      <td>Russia</td>\n",
       "      <td>Foggy</td>\n",
       "      <td>2541</td>\n",
       "    </tr>\n",
       "    <tr>\n",
       "      <th>37</th>\n",
       "      <td>Russia</td>\n",
       "      <td>Rainy</td>\n",
       "      <td>2603</td>\n",
       "    </tr>\n",
       "    <tr>\n",
       "      <th>38</th>\n",
       "      <td>Russia</td>\n",
       "      <td>Snowy</td>\n",
       "      <td>2649</td>\n",
       "    </tr>\n",
       "    <tr>\n",
       "      <th>39</th>\n",
       "      <td>Russia</td>\n",
       "      <td>Windy</td>\n",
       "      <td>2623</td>\n",
       "    </tr>\n",
       "    <tr>\n",
       "      <th>40</th>\n",
       "      <td>UK</td>\n",
       "      <td>Clear</td>\n",
       "      <td>2736</td>\n",
       "    </tr>\n",
       "    <tr>\n",
       "      <th>41</th>\n",
       "      <td>UK</td>\n",
       "      <td>Foggy</td>\n",
       "      <td>2506</td>\n",
       "    </tr>\n",
       "    <tr>\n",
       "      <th>42</th>\n",
       "      <td>UK</td>\n",
       "      <td>Rainy</td>\n",
       "      <td>2681</td>\n",
       "    </tr>\n",
       "    <tr>\n",
       "      <th>43</th>\n",
       "      <td>UK</td>\n",
       "      <td>Snowy</td>\n",
       "      <td>2598</td>\n",
       "    </tr>\n",
       "    <tr>\n",
       "      <th>44</th>\n",
       "      <td>UK</td>\n",
       "      <td>Windy</td>\n",
       "      <td>2665</td>\n",
       "    </tr>\n",
       "    <tr>\n",
       "      <th>45</th>\n",
       "      <td>USA</td>\n",
       "      <td>Clear</td>\n",
       "      <td>2620</td>\n",
       "    </tr>\n",
       "    <tr>\n",
       "      <th>46</th>\n",
       "      <td>USA</td>\n",
       "      <td>Foggy</td>\n",
       "      <td>2619</td>\n",
       "    </tr>\n",
       "    <tr>\n",
       "      <th>47</th>\n",
       "      <td>USA</td>\n",
       "      <td>Rainy</td>\n",
       "      <td>2764</td>\n",
       "    </tr>\n",
       "    <tr>\n",
       "      <th>48</th>\n",
       "      <td>USA</td>\n",
       "      <td>Snowy</td>\n",
       "      <td>2544</td>\n",
       "    </tr>\n",
       "    <tr>\n",
       "      <th>49</th>\n",
       "      <td>USA</td>\n",
       "      <td>Windy</td>\n",
       "      <td>2578</td>\n",
       "    </tr>\n",
       "  </tbody>\n",
       "</table>\n",
       "</div>"
      ],
      "text/plain": [
       "      Country Weather  acidentes_rodovias\n",
       "0   Australia   Clear                2632\n",
       "1   Australia   Foggy                2660\n",
       "2   Australia   Rainy                2662\n",
       "3   Australia   Snowy                2751\n",
       "4   Australia   Windy                2640\n",
       "5      Brazil   Clear                2647\n",
       "6      Brazil   Foggy                2642\n",
       "7      Brazil   Rainy                2645\n",
       "8      Brazil   Snowy                2633\n",
       "9      Brazil   Windy                2751\n",
       "10     Canada   Clear                2676\n",
       "11     Canada   Foggy                2681\n",
       "12     Canada   Rainy                2694\n",
       "13     Canada   Snowy                2641\n",
       "14     Canada   Windy                2657\n",
       "15      China   Clear                2551\n",
       "16      China   Foggy                2638\n",
       "17      China   Rainy                2621\n",
       "18      China   Snowy                2596\n",
       "19      China   Windy                2715\n",
       "20    Germany   Clear                2707\n",
       "21    Germany   Foggy                2568\n",
       "22    Germany   Rainy                2660\n",
       "23    Germany   Snowy                2634\n",
       "24    Germany   Windy                2724\n",
       "25      India   Clear                2622\n",
       "26      India   Foggy                2667\n",
       "27      India   Rainy                2684\n",
       "28      India   Snowy                2630\n",
       "29      India   Windy                2635\n",
       "30      Japan   Clear                2675\n",
       "31      Japan   Foggy                2615\n",
       "32      Japan   Rainy                2548\n",
       "33      Japan   Snowy                2573\n",
       "34      Japan   Windy                2638\n",
       "35     Russia   Clear                2560\n",
       "36     Russia   Foggy                2541\n",
       "37     Russia   Rainy                2603\n",
       "38     Russia   Snowy                2649\n",
       "39     Russia   Windy                2623\n",
       "40         UK   Clear                2736\n",
       "41         UK   Foggy                2506\n",
       "42         UK   Rainy                2681\n",
       "43         UK   Snowy                2598\n",
       "44         UK   Windy                2665\n",
       "45        USA   Clear                2620\n",
       "46        USA   Foggy                2619\n",
       "47        USA   Rainy                2764\n",
       "48        USA   Snowy                2544\n",
       "49        USA   Windy                2578"
      ]
     },
     "metadata": {},
     "output_type": "display_data"
    },
    {
     "name": "stdout",
     "output_type": "stream",
     "text": [
      "\n",
      "Total_gasto\n"
     ]
    },
    {
     "data": {
      "text/html": [
       "<div>\n",
       "<style scoped>\n",
       "    .dataframe tbody tr th:only-of-type {\n",
       "        vertical-align: middle;\n",
       "    }\n",
       "\n",
       "    .dataframe tbody tr th {\n",
       "        vertical-align: top;\n",
       "    }\n",
       "\n",
       "    .dataframe thead th {\n",
       "        text-align: right;\n",
       "    }\n",
       "</style>\n",
       "<table border=\"1\" class=\"dataframe\">\n",
       "  <thead>\n",
       "    <tr style=\"text-align: right;\">\n",
       "      <th></th>\n",
       "      <th>Country</th>\n",
       "      <th>Number_Vehicles_Involved</th>\n",
       "      <th>Number_People_Injured</th>\n",
       "      <th>Economic_Loss</th>\n",
       "      <th>Medical_Cost</th>\n",
       "    </tr>\n",
       "  </thead>\n",
       "  <tbody>\n",
       "    <tr>\n",
       "      <th>0</th>\n",
       "      <td>Australia</td>\n",
       "      <td>1</td>\n",
       "      <td>0</td>\n",
       "      <td>2.458177e+06</td>\n",
       "      <td>1.166558e+06</td>\n",
       "    </tr>\n",
       "    <tr>\n",
       "      <th>1</th>\n",
       "      <td>Australia</td>\n",
       "      <td>1</td>\n",
       "      <td>1</td>\n",
       "      <td>3.178872e+06</td>\n",
       "      <td>1.660142e+06</td>\n",
       "    </tr>\n",
       "    <tr>\n",
       "      <th>2</th>\n",
       "      <td>Australia</td>\n",
       "      <td>1</td>\n",
       "      <td>2</td>\n",
       "      <td>4.271268e+06</td>\n",
       "      <td>2.308345e+06</td>\n",
       "    </tr>\n",
       "    <tr>\n",
       "      <th>3</th>\n",
       "      <td>Australia</td>\n",
       "      <td>1</td>\n",
       "      <td>3</td>\n",
       "      <td>6.405428e+06</td>\n",
       "      <td>3.492128e+06</td>\n",
       "    </tr>\n",
       "    <tr>\n",
       "      <th>4</th>\n",
       "      <td>Australia</td>\n",
       "      <td>1</td>\n",
       "      <td>4</td>\n",
       "      <td>7.982081e+06</td>\n",
       "      <td>4.110809e+06</td>\n",
       "    </tr>\n",
       "    <tr>\n",
       "      <th>...</th>\n",
       "      <td>...</td>\n",
       "      <td>...</td>\n",
       "      <td>...</td>\n",
       "      <td>...</td>\n",
       "      <td>...</td>\n",
       "    </tr>\n",
       "    <tr>\n",
       "      <th>955</th>\n",
       "      <td>USA</td>\n",
       "      <td>4</td>\n",
       "      <td>19</td>\n",
       "      <td>8.612082e+06</td>\n",
       "      <td>4.136484e+06</td>\n",
       "    </tr>\n",
       "    <tr>\n",
       "      <th>956</th>\n",
       "      <td>USA</td>\n",
       "      <td>4</td>\n",
       "      <td>20</td>\n",
       "      <td>6.649612e+06</td>\n",
       "      <td>3.178584e+06</td>\n",
       "    </tr>\n",
       "    <tr>\n",
       "      <th>957</th>\n",
       "      <td>USA</td>\n",
       "      <td>4</td>\n",
       "      <td>21</td>\n",
       "      <td>5.165391e+06</td>\n",
       "      <td>2.588147e+06</td>\n",
       "    </tr>\n",
       "    <tr>\n",
       "      <th>958</th>\n",
       "      <td>USA</td>\n",
       "      <td>4</td>\n",
       "      <td>22</td>\n",
       "      <td>4.220133e+06</td>\n",
       "      <td>2.086024e+06</td>\n",
       "    </tr>\n",
       "    <tr>\n",
       "      <th>959</th>\n",
       "      <td>USA</td>\n",
       "      <td>4</td>\n",
       "      <td>23</td>\n",
       "      <td>1.153258e+06</td>\n",
       "      <td>7.029596e+05</td>\n",
       "    </tr>\n",
       "  </tbody>\n",
       "</table>\n",
       "<p>960 rows × 5 columns</p>\n",
       "</div>"
      ],
      "text/plain": [
       "       Country  Number_Vehicles_Involved  Number_People_Injured  \\\n",
       "0    Australia                         1                      0   \n",
       "1    Australia                         1                      1   \n",
       "2    Australia                         1                      2   \n",
       "3    Australia                         1                      3   \n",
       "4    Australia                         1                      4   \n",
       "..         ...                       ...                    ...   \n",
       "955        USA                         4                     19   \n",
       "956        USA                         4                     20   \n",
       "957        USA                         4                     21   \n",
       "958        USA                         4                     22   \n",
       "959        USA                         4                     23   \n",
       "\n",
       "     Economic_Loss  Medical_Cost  \n",
       "0     2.458177e+06  1.166558e+06  \n",
       "1     3.178872e+06  1.660142e+06  \n",
       "2     4.271268e+06  2.308345e+06  \n",
       "3     6.405428e+06  3.492128e+06  \n",
       "4     7.982081e+06  4.110809e+06  \n",
       "..             ...           ...  \n",
       "955   8.612082e+06  4.136484e+06  \n",
       "956   6.649612e+06  3.178584e+06  \n",
       "957   5.165391e+06  2.588147e+06  \n",
       "958   4.220133e+06  2.086024e+06  \n",
       "959   1.153258e+06  7.029596e+05  \n",
       "\n",
       "[960 rows x 5 columns]"
      ]
     },
     "metadata": {},
     "output_type": "display_data"
    }
   ],
   "source": [
    "total_acidentes = {\n",
    "    'Acidentes_Por_Pais': acidentes_por_pais,\n",
    "    'Quantidade_de_acidentes_por_ano': quantidade_de_acidentes_por_ano,\n",
    "    'Acidentes_rodovias': acidentes_rodovias,\n",
    "    'Total_gasto' : total_gasto\n",
    "}\n",
    "\n",
    "for coluna, valor in total_acidentes.items():\n",
    "    print(f'\\n{coluna}')\n",
    "    display(valor)"
   ]
  },
  {
   "cell_type": "markdown",
   "metadata": {},
   "source": [
    "EXPORTAÇÃO DOS DADOS"
   ]
  },
  {
   "cell_type": "code",
   "execution_count": 24,
   "metadata": {},
   "outputs": [],
   "source": [
    "#for nome, df in total_acidentes.items():\n",
    "#    df.to_csv(f'{nome}.csv', index=False)  # Salva sem o índice numérico extra\n",
    "# EXPORTA CADA ARQUIVO EM UM EXCEL\n"
   ]
  },
  {
   "cell_type": "code",
   "execution_count": 6,
   "metadata": {},
   "outputs": [
    {
     "name": "stdout",
     "output_type": "stream",
     "text": [
      "Arquivo 'acidentes_analise.xlsx' salvo com sucesso! 🚀\n"
     ]
    }
   ],
   "source": [
    "import pandas as pd  \n",
    "\n",
    "with pd.ExcelWriter('acidentes_analise.xlsx') as writer:\n",
    "    for nome, df in total_acidentes.items():\n",
    "        df.to_excel(writer, sheet_name=nome, index=False)  # Cada DataFrame em uma aba\n",
    "\n",
    "print(\"Arquivo 'acidentes_analise.xlsx' salvo com sucesso! 🚀\")\n"
   ]
  },
  {
   "cell_type": "code",
   "execution_count": 12,
   "metadata": {},
   "outputs": [
    {
     "data": {
      "application/vnd.plotly.v1+json": {
       "config": {
        "plotlyServerURL": "https://plot.ly"
       },
       "data": [
        {
         "domain": {
          "x": [
           0,
           1
          ],
          "y": [
           0,
           1
          ]
         },
         "hovertemplate": "Country=%{label}<br>Total_Acidentes=%{value}<extra></extra>",
         "labels": [
          "Australia",
          "Brazil",
          "Canada",
          "China",
          "Germany",
          "India",
          "Japan",
          "Russia",
          "UK",
          "USA"
         ],
         "legendgroup": "",
         "name": "",
         "showlegend": true,
         "type": "pie",
         "values": [
          13345,
          13318,
          13349,
          13121,
          13293,
          13238,
          13049,
          12976,
          13186,
          13125
         ]
        }
       ],
       "layout": {
        "legend": {
         "tracegroupgap": 0
        },
        "template": {
         "data": {
          "bar": [
           {
            "error_x": {
             "color": "#2a3f5f"
            },
            "error_y": {
             "color": "#2a3f5f"
            },
            "marker": {
             "line": {
              "color": "#E5ECF6",
              "width": 0.5
             },
             "pattern": {
              "fillmode": "overlay",
              "size": 10,
              "solidity": 0.2
             }
            },
            "type": "bar"
           }
          ],
          "barpolar": [
           {
            "marker": {
             "line": {
              "color": "#E5ECF6",
              "width": 0.5
             },
             "pattern": {
              "fillmode": "overlay",
              "size": 10,
              "solidity": 0.2
             }
            },
            "type": "barpolar"
           }
          ],
          "carpet": [
           {
            "aaxis": {
             "endlinecolor": "#2a3f5f",
             "gridcolor": "white",
             "linecolor": "white",
             "minorgridcolor": "white",
             "startlinecolor": "#2a3f5f"
            },
            "baxis": {
             "endlinecolor": "#2a3f5f",
             "gridcolor": "white",
             "linecolor": "white",
             "minorgridcolor": "white",
             "startlinecolor": "#2a3f5f"
            },
            "type": "carpet"
           }
          ],
          "choropleth": [
           {
            "colorbar": {
             "outlinewidth": 0,
             "ticks": ""
            },
            "type": "choropleth"
           }
          ],
          "contour": [
           {
            "colorbar": {
             "outlinewidth": 0,
             "ticks": ""
            },
            "colorscale": [
             [
              0,
              "#0d0887"
             ],
             [
              0.1111111111111111,
              "#46039f"
             ],
             [
              0.2222222222222222,
              "#7201a8"
             ],
             [
              0.3333333333333333,
              "#9c179e"
             ],
             [
              0.4444444444444444,
              "#bd3786"
             ],
             [
              0.5555555555555556,
              "#d8576b"
             ],
             [
              0.6666666666666666,
              "#ed7953"
             ],
             [
              0.7777777777777778,
              "#fb9f3a"
             ],
             [
              0.8888888888888888,
              "#fdca26"
             ],
             [
              1,
              "#f0f921"
             ]
            ],
            "type": "contour"
           }
          ],
          "contourcarpet": [
           {
            "colorbar": {
             "outlinewidth": 0,
             "ticks": ""
            },
            "type": "contourcarpet"
           }
          ],
          "heatmap": [
           {
            "colorbar": {
             "outlinewidth": 0,
             "ticks": ""
            },
            "colorscale": [
             [
              0,
              "#0d0887"
             ],
             [
              0.1111111111111111,
              "#46039f"
             ],
             [
              0.2222222222222222,
              "#7201a8"
             ],
             [
              0.3333333333333333,
              "#9c179e"
             ],
             [
              0.4444444444444444,
              "#bd3786"
             ],
             [
              0.5555555555555556,
              "#d8576b"
             ],
             [
              0.6666666666666666,
              "#ed7953"
             ],
             [
              0.7777777777777778,
              "#fb9f3a"
             ],
             [
              0.8888888888888888,
              "#fdca26"
             ],
             [
              1,
              "#f0f921"
             ]
            ],
            "type": "heatmap"
           }
          ],
          "heatmapgl": [
           {
            "colorbar": {
             "outlinewidth": 0,
             "ticks": ""
            },
            "colorscale": [
             [
              0,
              "#0d0887"
             ],
             [
              0.1111111111111111,
              "#46039f"
             ],
             [
              0.2222222222222222,
              "#7201a8"
             ],
             [
              0.3333333333333333,
              "#9c179e"
             ],
             [
              0.4444444444444444,
              "#bd3786"
             ],
             [
              0.5555555555555556,
              "#d8576b"
             ],
             [
              0.6666666666666666,
              "#ed7953"
             ],
             [
              0.7777777777777778,
              "#fb9f3a"
             ],
             [
              0.8888888888888888,
              "#fdca26"
             ],
             [
              1,
              "#f0f921"
             ]
            ],
            "type": "heatmapgl"
           }
          ],
          "histogram": [
           {
            "marker": {
             "pattern": {
              "fillmode": "overlay",
              "size": 10,
              "solidity": 0.2
             }
            },
            "type": "histogram"
           }
          ],
          "histogram2d": [
           {
            "colorbar": {
             "outlinewidth": 0,
             "ticks": ""
            },
            "colorscale": [
             [
              0,
              "#0d0887"
             ],
             [
              0.1111111111111111,
              "#46039f"
             ],
             [
              0.2222222222222222,
              "#7201a8"
             ],
             [
              0.3333333333333333,
              "#9c179e"
             ],
             [
              0.4444444444444444,
              "#bd3786"
             ],
             [
              0.5555555555555556,
              "#d8576b"
             ],
             [
              0.6666666666666666,
              "#ed7953"
             ],
             [
              0.7777777777777778,
              "#fb9f3a"
             ],
             [
              0.8888888888888888,
              "#fdca26"
             ],
             [
              1,
              "#f0f921"
             ]
            ],
            "type": "histogram2d"
           }
          ],
          "histogram2dcontour": [
           {
            "colorbar": {
             "outlinewidth": 0,
             "ticks": ""
            },
            "colorscale": [
             [
              0,
              "#0d0887"
             ],
             [
              0.1111111111111111,
              "#46039f"
             ],
             [
              0.2222222222222222,
              "#7201a8"
             ],
             [
              0.3333333333333333,
              "#9c179e"
             ],
             [
              0.4444444444444444,
              "#bd3786"
             ],
             [
              0.5555555555555556,
              "#d8576b"
             ],
             [
              0.6666666666666666,
              "#ed7953"
             ],
             [
              0.7777777777777778,
              "#fb9f3a"
             ],
             [
              0.8888888888888888,
              "#fdca26"
             ],
             [
              1,
              "#f0f921"
             ]
            ],
            "type": "histogram2dcontour"
           }
          ],
          "mesh3d": [
           {
            "colorbar": {
             "outlinewidth": 0,
             "ticks": ""
            },
            "type": "mesh3d"
           }
          ],
          "parcoords": [
           {
            "line": {
             "colorbar": {
              "outlinewidth": 0,
              "ticks": ""
             }
            },
            "type": "parcoords"
           }
          ],
          "pie": [
           {
            "automargin": true,
            "type": "pie"
           }
          ],
          "scatter": [
           {
            "fillpattern": {
             "fillmode": "overlay",
             "size": 10,
             "solidity": 0.2
            },
            "type": "scatter"
           }
          ],
          "scatter3d": [
           {
            "line": {
             "colorbar": {
              "outlinewidth": 0,
              "ticks": ""
             }
            },
            "marker": {
             "colorbar": {
              "outlinewidth": 0,
              "ticks": ""
             }
            },
            "type": "scatter3d"
           }
          ],
          "scattercarpet": [
           {
            "marker": {
             "colorbar": {
              "outlinewidth": 0,
              "ticks": ""
             }
            },
            "type": "scattercarpet"
           }
          ],
          "scattergeo": [
           {
            "marker": {
             "colorbar": {
              "outlinewidth": 0,
              "ticks": ""
             }
            },
            "type": "scattergeo"
           }
          ],
          "scattergl": [
           {
            "marker": {
             "colorbar": {
              "outlinewidth": 0,
              "ticks": ""
             }
            },
            "type": "scattergl"
           }
          ],
          "scattermapbox": [
           {
            "marker": {
             "colorbar": {
              "outlinewidth": 0,
              "ticks": ""
             }
            },
            "type": "scattermapbox"
           }
          ],
          "scatterpolar": [
           {
            "marker": {
             "colorbar": {
              "outlinewidth": 0,
              "ticks": ""
             }
            },
            "type": "scatterpolar"
           }
          ],
          "scatterpolargl": [
           {
            "marker": {
             "colorbar": {
              "outlinewidth": 0,
              "ticks": ""
             }
            },
            "type": "scatterpolargl"
           }
          ],
          "scatterternary": [
           {
            "marker": {
             "colorbar": {
              "outlinewidth": 0,
              "ticks": ""
             }
            },
            "type": "scatterternary"
           }
          ],
          "surface": [
           {
            "colorbar": {
             "outlinewidth": 0,
             "ticks": ""
            },
            "colorscale": [
             [
              0,
              "#0d0887"
             ],
             [
              0.1111111111111111,
              "#46039f"
             ],
             [
              0.2222222222222222,
              "#7201a8"
             ],
             [
              0.3333333333333333,
              "#9c179e"
             ],
             [
              0.4444444444444444,
              "#bd3786"
             ],
             [
              0.5555555555555556,
              "#d8576b"
             ],
             [
              0.6666666666666666,
              "#ed7953"
             ],
             [
              0.7777777777777778,
              "#fb9f3a"
             ],
             [
              0.8888888888888888,
              "#fdca26"
             ],
             [
              1,
              "#f0f921"
             ]
            ],
            "type": "surface"
           }
          ],
          "table": [
           {
            "cells": {
             "fill": {
              "color": "#EBF0F8"
             },
             "line": {
              "color": "white"
             }
            },
            "header": {
             "fill": {
              "color": "#C8D4E3"
             },
             "line": {
              "color": "white"
             }
            },
            "type": "table"
           }
          ]
         },
         "layout": {
          "annotationdefaults": {
           "arrowcolor": "#2a3f5f",
           "arrowhead": 0,
           "arrowwidth": 1
          },
          "autotypenumbers": "strict",
          "coloraxis": {
           "colorbar": {
            "outlinewidth": 0,
            "ticks": ""
           }
          },
          "colorscale": {
           "diverging": [
            [
             0,
             "#8e0152"
            ],
            [
             0.1,
             "#c51b7d"
            ],
            [
             0.2,
             "#de77ae"
            ],
            [
             0.3,
             "#f1b6da"
            ],
            [
             0.4,
             "#fde0ef"
            ],
            [
             0.5,
             "#f7f7f7"
            ],
            [
             0.6,
             "#e6f5d0"
            ],
            [
             0.7,
             "#b8e186"
            ],
            [
             0.8,
             "#7fbc41"
            ],
            [
             0.9,
             "#4d9221"
            ],
            [
             1,
             "#276419"
            ]
           ],
           "sequential": [
            [
             0,
             "#0d0887"
            ],
            [
             0.1111111111111111,
             "#46039f"
            ],
            [
             0.2222222222222222,
             "#7201a8"
            ],
            [
             0.3333333333333333,
             "#9c179e"
            ],
            [
             0.4444444444444444,
             "#bd3786"
            ],
            [
             0.5555555555555556,
             "#d8576b"
            ],
            [
             0.6666666666666666,
             "#ed7953"
            ],
            [
             0.7777777777777778,
             "#fb9f3a"
            ],
            [
             0.8888888888888888,
             "#fdca26"
            ],
            [
             1,
             "#f0f921"
            ]
           ],
           "sequentialminus": [
            [
             0,
             "#0d0887"
            ],
            [
             0.1111111111111111,
             "#46039f"
            ],
            [
             0.2222222222222222,
             "#7201a8"
            ],
            [
             0.3333333333333333,
             "#9c179e"
            ],
            [
             0.4444444444444444,
             "#bd3786"
            ],
            [
             0.5555555555555556,
             "#d8576b"
            ],
            [
             0.6666666666666666,
             "#ed7953"
            ],
            [
             0.7777777777777778,
             "#fb9f3a"
            ],
            [
             0.8888888888888888,
             "#fdca26"
            ],
            [
             1,
             "#f0f921"
            ]
           ]
          },
          "colorway": [
           "#636efa",
           "#EF553B",
           "#00cc96",
           "#ab63fa",
           "#FFA15A",
           "#19d3f3",
           "#FF6692",
           "#B6E880",
           "#FF97FF",
           "#FECB52"
          ],
          "font": {
           "color": "#2a3f5f"
          },
          "geo": {
           "bgcolor": "white",
           "lakecolor": "white",
           "landcolor": "#E5ECF6",
           "showlakes": true,
           "showland": true,
           "subunitcolor": "white"
          },
          "hoverlabel": {
           "align": "left"
          },
          "hovermode": "closest",
          "mapbox": {
           "style": "light"
          },
          "paper_bgcolor": "white",
          "plot_bgcolor": "#E5ECF6",
          "polar": {
           "angularaxis": {
            "gridcolor": "white",
            "linecolor": "white",
            "ticks": ""
           },
           "bgcolor": "#E5ECF6",
           "radialaxis": {
            "gridcolor": "white",
            "linecolor": "white",
            "ticks": ""
           }
          },
          "scene": {
           "xaxis": {
            "backgroundcolor": "#E5ECF6",
            "gridcolor": "white",
            "gridwidth": 2,
            "linecolor": "white",
            "showbackground": true,
            "ticks": "",
            "zerolinecolor": "white"
           },
           "yaxis": {
            "backgroundcolor": "#E5ECF6",
            "gridcolor": "white",
            "gridwidth": 2,
            "linecolor": "white",
            "showbackground": true,
            "ticks": "",
            "zerolinecolor": "white"
           },
           "zaxis": {
            "backgroundcolor": "#E5ECF6",
            "gridcolor": "white",
            "gridwidth": 2,
            "linecolor": "white",
            "showbackground": true,
            "ticks": "",
            "zerolinecolor": "white"
           }
          },
          "shapedefaults": {
           "line": {
            "color": "#2a3f5f"
           }
          },
          "ternary": {
           "aaxis": {
            "gridcolor": "white",
            "linecolor": "white",
            "ticks": ""
           },
           "baxis": {
            "gridcolor": "white",
            "linecolor": "white",
            "ticks": ""
           },
           "bgcolor": "#E5ECF6",
           "caxis": {
            "gridcolor": "white",
            "linecolor": "white",
            "ticks": ""
           }
          },
          "title": {
           "x": 0.05
          },
          "xaxis": {
           "automargin": true,
           "gridcolor": "white",
           "linecolor": "white",
           "ticks": "",
           "title": {
            "standoff": 15
           },
           "zerolinecolor": "white",
           "zerolinewidth": 2
          },
          "yaxis": {
           "automargin": true,
           "gridcolor": "white",
           "linecolor": "white",
           "ticks": "",
           "title": {
            "standoff": 15
           },
           "zerolinecolor": "white",
           "zerolinewidth": 2
          }
         }
        },
        "title": {
         "text": "Distribuição de Acidentes por País"
        }
       }
      }
     },
     "metadata": {},
     "output_type": "display_data"
    }
   ],
   "source": [
    "import plotly.express as px\n",
    "import pandas as pd  \n",
    "df = pd.read_excel(\"acidentes_analise.xlsx\", sheet_name=\"Acidentes_Por_Pais\")\n",
    "#grafico = px.bar(df, x=\"Country\", y=\"Total_Acidentes\", title=\"Acidentes por País\", text_auto=True)\n",
    "grafico = px.pie(df, names=\"Country\", values=\"Total_Acidentes\", title=\"Distribuição de Acidentes por País\")\n",
    "\n",
    "grafico.show()"
   ]
  },
  {
   "cell_type": "code",
   "execution_count": 30,
   "metadata": {},
   "outputs": [
    {
     "data": {
      "application/vnd.plotly.v1+json": {
       "config": {
        "plotlyServerURL": "https://plot.ly"
       },
       "data": [
        {
         "domain": {
          "x": [
           0,
           1
          ],
          "y": [
           0,
           1
          ]
         },
         "hole": 0.4,
         "hovertemplate": "Year=%{label}<br>Quantidade_de_acidentes_por_ano=%{value}<extra></extra>",
         "labels": [
          2000,
          2001,
          2002,
          2003,
          2004,
          2005,
          2006,
          2007,
          2008,
          2009,
          2010,
          2011,
          2012,
          2013,
          2014,
          2015,
          2016,
          2017,
          2018,
          2019,
          2020,
          2021,
          2022,
          2023,
          2024
         ],
         "legendgroup": "",
         "name": "",
         "showlegend": true,
         "type": "pie",
         "values": [
          5280,
          5263,
          5433,
          5327,
          5180,
          5302,
          5156,
          5307,
          5409,
          5298,
          5144,
          5356,
          5327,
          5220,
          5351,
          5331,
          5377,
          5278,
          5295,
          5243,
          5308,
          5243,
          5175,
          5242,
          5155
         ]
        }
       ],
       "layout": {
        "legend": {
         "tracegroupgap": 0
        },
        "piecolorway": [
         "rgb(8,48,107)",
         "rgb(8,81,156)",
         "rgb(33,113,181)",
         "rgb(66,146,198)",
         "rgb(107,174,214)",
         "rgb(158,202,225)",
         "rgb(198,219,239)",
         "rgb(222,235,247)",
         "rgb(247,251,255)"
        ],
        "template": {
         "data": {
          "bar": [
           {
            "error_x": {
             "color": "#2a3f5f"
            },
            "error_y": {
             "color": "#2a3f5f"
            },
            "marker": {
             "line": {
              "color": "#E5ECF6",
              "width": 0.5
             },
             "pattern": {
              "fillmode": "overlay",
              "size": 10,
              "solidity": 0.2
             }
            },
            "type": "bar"
           }
          ],
          "barpolar": [
           {
            "marker": {
             "line": {
              "color": "#E5ECF6",
              "width": 0.5
             },
             "pattern": {
              "fillmode": "overlay",
              "size": 10,
              "solidity": 0.2
             }
            },
            "type": "barpolar"
           }
          ],
          "carpet": [
           {
            "aaxis": {
             "endlinecolor": "#2a3f5f",
             "gridcolor": "white",
             "linecolor": "white",
             "minorgridcolor": "white",
             "startlinecolor": "#2a3f5f"
            },
            "baxis": {
             "endlinecolor": "#2a3f5f",
             "gridcolor": "white",
             "linecolor": "white",
             "minorgridcolor": "white",
             "startlinecolor": "#2a3f5f"
            },
            "type": "carpet"
           }
          ],
          "choropleth": [
           {
            "colorbar": {
             "outlinewidth": 0,
             "ticks": ""
            },
            "type": "choropleth"
           }
          ],
          "contour": [
           {
            "colorbar": {
             "outlinewidth": 0,
             "ticks": ""
            },
            "colorscale": [
             [
              0,
              "#0d0887"
             ],
             [
              0.1111111111111111,
              "#46039f"
             ],
             [
              0.2222222222222222,
              "#7201a8"
             ],
             [
              0.3333333333333333,
              "#9c179e"
             ],
             [
              0.4444444444444444,
              "#bd3786"
             ],
             [
              0.5555555555555556,
              "#d8576b"
             ],
             [
              0.6666666666666666,
              "#ed7953"
             ],
             [
              0.7777777777777778,
              "#fb9f3a"
             ],
             [
              0.8888888888888888,
              "#fdca26"
             ],
             [
              1,
              "#f0f921"
             ]
            ],
            "type": "contour"
           }
          ],
          "contourcarpet": [
           {
            "colorbar": {
             "outlinewidth": 0,
             "ticks": ""
            },
            "type": "contourcarpet"
           }
          ],
          "heatmap": [
           {
            "colorbar": {
             "outlinewidth": 0,
             "ticks": ""
            },
            "colorscale": [
             [
              0,
              "#0d0887"
             ],
             [
              0.1111111111111111,
              "#46039f"
             ],
             [
              0.2222222222222222,
              "#7201a8"
             ],
             [
              0.3333333333333333,
              "#9c179e"
             ],
             [
              0.4444444444444444,
              "#bd3786"
             ],
             [
              0.5555555555555556,
              "#d8576b"
             ],
             [
              0.6666666666666666,
              "#ed7953"
             ],
             [
              0.7777777777777778,
              "#fb9f3a"
             ],
             [
              0.8888888888888888,
              "#fdca26"
             ],
             [
              1,
              "#f0f921"
             ]
            ],
            "type": "heatmap"
           }
          ],
          "heatmapgl": [
           {
            "colorbar": {
             "outlinewidth": 0,
             "ticks": ""
            },
            "colorscale": [
             [
              0,
              "#0d0887"
             ],
             [
              0.1111111111111111,
              "#46039f"
             ],
             [
              0.2222222222222222,
              "#7201a8"
             ],
             [
              0.3333333333333333,
              "#9c179e"
             ],
             [
              0.4444444444444444,
              "#bd3786"
             ],
             [
              0.5555555555555556,
              "#d8576b"
             ],
             [
              0.6666666666666666,
              "#ed7953"
             ],
             [
              0.7777777777777778,
              "#fb9f3a"
             ],
             [
              0.8888888888888888,
              "#fdca26"
             ],
             [
              1,
              "#f0f921"
             ]
            ],
            "type": "heatmapgl"
           }
          ],
          "histogram": [
           {
            "marker": {
             "pattern": {
              "fillmode": "overlay",
              "size": 10,
              "solidity": 0.2
             }
            },
            "type": "histogram"
           }
          ],
          "histogram2d": [
           {
            "colorbar": {
             "outlinewidth": 0,
             "ticks": ""
            },
            "colorscale": [
             [
              0,
              "#0d0887"
             ],
             [
              0.1111111111111111,
              "#46039f"
             ],
             [
              0.2222222222222222,
              "#7201a8"
             ],
             [
              0.3333333333333333,
              "#9c179e"
             ],
             [
              0.4444444444444444,
              "#bd3786"
             ],
             [
              0.5555555555555556,
              "#d8576b"
             ],
             [
              0.6666666666666666,
              "#ed7953"
             ],
             [
              0.7777777777777778,
              "#fb9f3a"
             ],
             [
              0.8888888888888888,
              "#fdca26"
             ],
             [
              1,
              "#f0f921"
             ]
            ],
            "type": "histogram2d"
           }
          ],
          "histogram2dcontour": [
           {
            "colorbar": {
             "outlinewidth": 0,
             "ticks": ""
            },
            "colorscale": [
             [
              0,
              "#0d0887"
             ],
             [
              0.1111111111111111,
              "#46039f"
             ],
             [
              0.2222222222222222,
              "#7201a8"
             ],
             [
              0.3333333333333333,
              "#9c179e"
             ],
             [
              0.4444444444444444,
              "#bd3786"
             ],
             [
              0.5555555555555556,
              "#d8576b"
             ],
             [
              0.6666666666666666,
              "#ed7953"
             ],
             [
              0.7777777777777778,
              "#fb9f3a"
             ],
             [
              0.8888888888888888,
              "#fdca26"
             ],
             [
              1,
              "#f0f921"
             ]
            ],
            "type": "histogram2dcontour"
           }
          ],
          "mesh3d": [
           {
            "colorbar": {
             "outlinewidth": 0,
             "ticks": ""
            },
            "type": "mesh3d"
           }
          ],
          "parcoords": [
           {
            "line": {
             "colorbar": {
              "outlinewidth": 0,
              "ticks": ""
             }
            },
            "type": "parcoords"
           }
          ],
          "pie": [
           {
            "automargin": true,
            "type": "pie"
           }
          ],
          "scatter": [
           {
            "fillpattern": {
             "fillmode": "overlay",
             "size": 10,
             "solidity": 0.2
            },
            "type": "scatter"
           }
          ],
          "scatter3d": [
           {
            "line": {
             "colorbar": {
              "outlinewidth": 0,
              "ticks": ""
             }
            },
            "marker": {
             "colorbar": {
              "outlinewidth": 0,
              "ticks": ""
             }
            },
            "type": "scatter3d"
           }
          ],
          "scattercarpet": [
           {
            "marker": {
             "colorbar": {
              "outlinewidth": 0,
              "ticks": ""
             }
            },
            "type": "scattercarpet"
           }
          ],
          "scattergeo": [
           {
            "marker": {
             "colorbar": {
              "outlinewidth": 0,
              "ticks": ""
             }
            },
            "type": "scattergeo"
           }
          ],
          "scattergl": [
           {
            "marker": {
             "colorbar": {
              "outlinewidth": 0,
              "ticks": ""
             }
            },
            "type": "scattergl"
           }
          ],
          "scattermapbox": [
           {
            "marker": {
             "colorbar": {
              "outlinewidth": 0,
              "ticks": ""
             }
            },
            "type": "scattermapbox"
           }
          ],
          "scatterpolar": [
           {
            "marker": {
             "colorbar": {
              "outlinewidth": 0,
              "ticks": ""
             }
            },
            "type": "scatterpolar"
           }
          ],
          "scatterpolargl": [
           {
            "marker": {
             "colorbar": {
              "outlinewidth": 0,
              "ticks": ""
             }
            },
            "type": "scatterpolargl"
           }
          ],
          "scatterternary": [
           {
            "marker": {
             "colorbar": {
              "outlinewidth": 0,
              "ticks": ""
             }
            },
            "type": "scatterternary"
           }
          ],
          "surface": [
           {
            "colorbar": {
             "outlinewidth": 0,
             "ticks": ""
            },
            "colorscale": [
             [
              0,
              "#0d0887"
             ],
             [
              0.1111111111111111,
              "#46039f"
             ],
             [
              0.2222222222222222,
              "#7201a8"
             ],
             [
              0.3333333333333333,
              "#9c179e"
             ],
             [
              0.4444444444444444,
              "#bd3786"
             ],
             [
              0.5555555555555556,
              "#d8576b"
             ],
             [
              0.6666666666666666,
              "#ed7953"
             ],
             [
              0.7777777777777778,
              "#fb9f3a"
             ],
             [
              0.8888888888888888,
              "#fdca26"
             ],
             [
              1,
              "#f0f921"
             ]
            ],
            "type": "surface"
           }
          ],
          "table": [
           {
            "cells": {
             "fill": {
              "color": "#EBF0F8"
             },
             "line": {
              "color": "white"
             }
            },
            "header": {
             "fill": {
              "color": "#C8D4E3"
             },
             "line": {
              "color": "white"
             }
            },
            "type": "table"
           }
          ]
         },
         "layout": {
          "annotationdefaults": {
           "arrowcolor": "#2a3f5f",
           "arrowhead": 0,
           "arrowwidth": 1
          },
          "autotypenumbers": "strict",
          "coloraxis": {
           "colorbar": {
            "outlinewidth": 0,
            "ticks": ""
           }
          },
          "colorscale": {
           "diverging": [
            [
             0,
             "#8e0152"
            ],
            [
             0.1,
             "#c51b7d"
            ],
            [
             0.2,
             "#de77ae"
            ],
            [
             0.3,
             "#f1b6da"
            ],
            [
             0.4,
             "#fde0ef"
            ],
            [
             0.5,
             "#f7f7f7"
            ],
            [
             0.6,
             "#e6f5d0"
            ],
            [
             0.7,
             "#b8e186"
            ],
            [
             0.8,
             "#7fbc41"
            ],
            [
             0.9,
             "#4d9221"
            ],
            [
             1,
             "#276419"
            ]
           ],
           "sequential": [
            [
             0,
             "#0d0887"
            ],
            [
             0.1111111111111111,
             "#46039f"
            ],
            [
             0.2222222222222222,
             "#7201a8"
            ],
            [
             0.3333333333333333,
             "#9c179e"
            ],
            [
             0.4444444444444444,
             "#bd3786"
            ],
            [
             0.5555555555555556,
             "#d8576b"
            ],
            [
             0.6666666666666666,
             "#ed7953"
            ],
            [
             0.7777777777777778,
             "#fb9f3a"
            ],
            [
             0.8888888888888888,
             "#fdca26"
            ],
            [
             1,
             "#f0f921"
            ]
           ],
           "sequentialminus": [
            [
             0,
             "#0d0887"
            ],
            [
             0.1111111111111111,
             "#46039f"
            ],
            [
             0.2222222222222222,
             "#7201a8"
            ],
            [
             0.3333333333333333,
             "#9c179e"
            ],
            [
             0.4444444444444444,
             "#bd3786"
            ],
            [
             0.5555555555555556,
             "#d8576b"
            ],
            [
             0.6666666666666666,
             "#ed7953"
            ],
            [
             0.7777777777777778,
             "#fb9f3a"
            ],
            [
             0.8888888888888888,
             "#fdca26"
            ],
            [
             1,
             "#f0f921"
            ]
           ]
          },
          "colorway": [
           "#636efa",
           "#EF553B",
           "#00cc96",
           "#ab63fa",
           "#FFA15A",
           "#19d3f3",
           "#FF6692",
           "#B6E880",
           "#FF97FF",
           "#FECB52"
          ],
          "font": {
           "color": "#2a3f5f"
          },
          "geo": {
           "bgcolor": "white",
           "lakecolor": "white",
           "landcolor": "#E5ECF6",
           "showlakes": true,
           "showland": true,
           "subunitcolor": "white"
          },
          "hoverlabel": {
           "align": "left"
          },
          "hovermode": "closest",
          "mapbox": {
           "style": "light"
          },
          "paper_bgcolor": "white",
          "plot_bgcolor": "#E5ECF6",
          "polar": {
           "angularaxis": {
            "gridcolor": "white",
            "linecolor": "white",
            "ticks": ""
           },
           "bgcolor": "#E5ECF6",
           "radialaxis": {
            "gridcolor": "white",
            "linecolor": "white",
            "ticks": ""
           }
          },
          "scene": {
           "xaxis": {
            "backgroundcolor": "#E5ECF6",
            "gridcolor": "white",
            "gridwidth": 2,
            "linecolor": "white",
            "showbackground": true,
            "ticks": "",
            "zerolinecolor": "white"
           },
           "yaxis": {
            "backgroundcolor": "#E5ECF6",
            "gridcolor": "white",
            "gridwidth": 2,
            "linecolor": "white",
            "showbackground": true,
            "ticks": "",
            "zerolinecolor": "white"
           },
           "zaxis": {
            "backgroundcolor": "#E5ECF6",
            "gridcolor": "white",
            "gridwidth": 2,
            "linecolor": "white",
            "showbackground": true,
            "ticks": "",
            "zerolinecolor": "white"
           }
          },
          "shapedefaults": {
           "line": {
            "color": "#2a3f5f"
           }
          },
          "ternary": {
           "aaxis": {
            "gridcolor": "white",
            "linecolor": "white",
            "ticks": ""
           },
           "baxis": {
            "gridcolor": "white",
            "linecolor": "white",
            "ticks": ""
           },
           "bgcolor": "#E5ECF6",
           "caxis": {
            "gridcolor": "white",
            "linecolor": "white",
            "ticks": ""
           }
          },
          "title": {
           "x": 0.05
          },
          "xaxis": {
           "automargin": true,
           "gridcolor": "white",
           "linecolor": "white",
           "ticks": "",
           "title": {
            "standoff": 15
           },
           "zerolinecolor": "white",
           "zerolinewidth": 2
          },
          "yaxis": {
           "automargin": true,
           "gridcolor": "white",
           "linecolor": "white",
           "ticks": "",
           "title": {
            "standoff": 15
           },
           "zerolinecolor": "white",
           "zerolinewidth": 2
          }
         }
        },
        "title": {
         "text": "Distribuição de Acidentes por Ano(%)"
        }
       }
      }
     },
     "metadata": {},
     "output_type": "display_data"
    }
   ],
   "source": [
    "df = pd.read_excel(\"acidentes_analise.xlsx\",sheet_name=\"Quantidade_de_acidentes_por_ano\");\n",
    "\n",
    "grafico = px.pie(df,names=\"Year\",values=\"Quantidade_de_acidentes_por_ano\",\n",
    "                 title=\"Distribuição de Acidentes por Ano(%)\",\n",
    "                 hole=0.4,\n",
    "                 color_discrete_sequence=px.colors.sequential.Blues_r\n",
    "                 )\n",
    "grafico.show()"
   ]
  },
  {
   "cell_type": "code",
   "execution_count": 31,
   "metadata": {},
   "outputs": [
    {
     "data": {
      "application/vnd.plotly.v1+json": {
       "config": {
        "plotlyServerURL": "https://plot.ly"
       },
       "data": [
        {
         "alignmentgroup": "True",
         "hovertemplate": "Weather=Clear<br>Country=%{x}<br>acidentes_rodovias=%{y}<extra></extra>",
         "legendgroup": "Clear",
         "marker": {
          "color": "#636efa",
          "pattern": {
           "shape": ""
          }
         },
         "name": "Clear",
         "offsetgroup": "Clear",
         "orientation": "v",
         "showlegend": true,
         "textposition": "auto",
         "texttemplate": "%{y}",
         "type": "bar",
         "x": [
          "Australia",
          "Brazil",
          "Canada",
          "China",
          "Germany",
          "India",
          "Japan",
          "Russia",
          "UK",
          "USA"
         ],
         "xaxis": "x",
         "y": [
          2632,
          2647,
          2676,
          2551,
          2707,
          2622,
          2675,
          2560,
          2736,
          2620
         ],
         "yaxis": "y"
        },
        {
         "alignmentgroup": "True",
         "hovertemplate": "Weather=Foggy<br>Country=%{x}<br>acidentes_rodovias=%{y}<extra></extra>",
         "legendgroup": "Foggy",
         "marker": {
          "color": "#EF553B",
          "pattern": {
           "shape": ""
          }
         },
         "name": "Foggy",
         "offsetgroup": "Foggy",
         "orientation": "v",
         "showlegend": true,
         "textposition": "auto",
         "texttemplate": "%{y}",
         "type": "bar",
         "x": [
          "Australia",
          "Brazil",
          "Canada",
          "China",
          "Germany",
          "India",
          "Japan",
          "Russia",
          "UK",
          "USA"
         ],
         "xaxis": "x",
         "y": [
          2660,
          2642,
          2681,
          2638,
          2568,
          2667,
          2615,
          2541,
          2506,
          2619
         ],
         "yaxis": "y"
        },
        {
         "alignmentgroup": "True",
         "hovertemplate": "Weather=Rainy<br>Country=%{x}<br>acidentes_rodovias=%{y}<extra></extra>",
         "legendgroup": "Rainy",
         "marker": {
          "color": "#00cc96",
          "pattern": {
           "shape": ""
          }
         },
         "name": "Rainy",
         "offsetgroup": "Rainy",
         "orientation": "v",
         "showlegend": true,
         "textposition": "auto",
         "texttemplate": "%{y}",
         "type": "bar",
         "x": [
          "Australia",
          "Brazil",
          "Canada",
          "China",
          "Germany",
          "India",
          "Japan",
          "Russia",
          "UK",
          "USA"
         ],
         "xaxis": "x",
         "y": [
          2662,
          2645,
          2694,
          2621,
          2660,
          2684,
          2548,
          2603,
          2681,
          2764
         ],
         "yaxis": "y"
        },
        {
         "alignmentgroup": "True",
         "hovertemplate": "Weather=Snowy<br>Country=%{x}<br>acidentes_rodovias=%{y}<extra></extra>",
         "legendgroup": "Snowy",
         "marker": {
          "color": "#ab63fa",
          "pattern": {
           "shape": ""
          }
         },
         "name": "Snowy",
         "offsetgroup": "Snowy",
         "orientation": "v",
         "showlegend": true,
         "textposition": "auto",
         "texttemplate": "%{y}",
         "type": "bar",
         "x": [
          "Australia",
          "Brazil",
          "Canada",
          "China",
          "Germany",
          "India",
          "Japan",
          "Russia",
          "UK",
          "USA"
         ],
         "xaxis": "x",
         "y": [
          2751,
          2633,
          2641,
          2596,
          2634,
          2630,
          2573,
          2649,
          2598,
          2544
         ],
         "yaxis": "y"
        },
        {
         "alignmentgroup": "True",
         "hovertemplate": "Weather=Windy<br>Country=%{x}<br>acidentes_rodovias=%{y}<extra></extra>",
         "legendgroup": "Windy",
         "marker": {
          "color": "#FFA15A",
          "pattern": {
           "shape": ""
          }
         },
         "name": "Windy",
         "offsetgroup": "Windy",
         "orientation": "v",
         "showlegend": true,
         "textposition": "auto",
         "texttemplate": "%{y}",
         "type": "bar",
         "x": [
          "Australia",
          "Brazil",
          "Canada",
          "China",
          "Germany",
          "India",
          "Japan",
          "Russia",
          "UK",
          "USA"
         ],
         "xaxis": "x",
         "y": [
          2640,
          2751,
          2657,
          2715,
          2724,
          2635,
          2638,
          2623,
          2665,
          2578
         ],
         "yaxis": "y"
        }
       ],
       "layout": {
        "barmode": "group",
        "legend": {
         "title": {
          "text": "Weather"
         },
         "tracegroupgap": 0
        },
        "template": {
         "data": {
          "bar": [
           {
            "error_x": {
             "color": "#2a3f5f"
            },
            "error_y": {
             "color": "#2a3f5f"
            },
            "marker": {
             "line": {
              "color": "#E5ECF6",
              "width": 0.5
             },
             "pattern": {
              "fillmode": "overlay",
              "size": 10,
              "solidity": 0.2
             }
            },
            "type": "bar"
           }
          ],
          "barpolar": [
           {
            "marker": {
             "line": {
              "color": "#E5ECF6",
              "width": 0.5
             },
             "pattern": {
              "fillmode": "overlay",
              "size": 10,
              "solidity": 0.2
             }
            },
            "type": "barpolar"
           }
          ],
          "carpet": [
           {
            "aaxis": {
             "endlinecolor": "#2a3f5f",
             "gridcolor": "white",
             "linecolor": "white",
             "minorgridcolor": "white",
             "startlinecolor": "#2a3f5f"
            },
            "baxis": {
             "endlinecolor": "#2a3f5f",
             "gridcolor": "white",
             "linecolor": "white",
             "minorgridcolor": "white",
             "startlinecolor": "#2a3f5f"
            },
            "type": "carpet"
           }
          ],
          "choropleth": [
           {
            "colorbar": {
             "outlinewidth": 0,
             "ticks": ""
            },
            "type": "choropleth"
           }
          ],
          "contour": [
           {
            "colorbar": {
             "outlinewidth": 0,
             "ticks": ""
            },
            "colorscale": [
             [
              0,
              "#0d0887"
             ],
             [
              0.1111111111111111,
              "#46039f"
             ],
             [
              0.2222222222222222,
              "#7201a8"
             ],
             [
              0.3333333333333333,
              "#9c179e"
             ],
             [
              0.4444444444444444,
              "#bd3786"
             ],
             [
              0.5555555555555556,
              "#d8576b"
             ],
             [
              0.6666666666666666,
              "#ed7953"
             ],
             [
              0.7777777777777778,
              "#fb9f3a"
             ],
             [
              0.8888888888888888,
              "#fdca26"
             ],
             [
              1,
              "#f0f921"
             ]
            ],
            "type": "contour"
           }
          ],
          "contourcarpet": [
           {
            "colorbar": {
             "outlinewidth": 0,
             "ticks": ""
            },
            "type": "contourcarpet"
           }
          ],
          "heatmap": [
           {
            "colorbar": {
             "outlinewidth": 0,
             "ticks": ""
            },
            "colorscale": [
             [
              0,
              "#0d0887"
             ],
             [
              0.1111111111111111,
              "#46039f"
             ],
             [
              0.2222222222222222,
              "#7201a8"
             ],
             [
              0.3333333333333333,
              "#9c179e"
             ],
             [
              0.4444444444444444,
              "#bd3786"
             ],
             [
              0.5555555555555556,
              "#d8576b"
             ],
             [
              0.6666666666666666,
              "#ed7953"
             ],
             [
              0.7777777777777778,
              "#fb9f3a"
             ],
             [
              0.8888888888888888,
              "#fdca26"
             ],
             [
              1,
              "#f0f921"
             ]
            ],
            "type": "heatmap"
           }
          ],
          "heatmapgl": [
           {
            "colorbar": {
             "outlinewidth": 0,
             "ticks": ""
            },
            "colorscale": [
             [
              0,
              "#0d0887"
             ],
             [
              0.1111111111111111,
              "#46039f"
             ],
             [
              0.2222222222222222,
              "#7201a8"
             ],
             [
              0.3333333333333333,
              "#9c179e"
             ],
             [
              0.4444444444444444,
              "#bd3786"
             ],
             [
              0.5555555555555556,
              "#d8576b"
             ],
             [
              0.6666666666666666,
              "#ed7953"
             ],
             [
              0.7777777777777778,
              "#fb9f3a"
             ],
             [
              0.8888888888888888,
              "#fdca26"
             ],
             [
              1,
              "#f0f921"
             ]
            ],
            "type": "heatmapgl"
           }
          ],
          "histogram": [
           {
            "marker": {
             "pattern": {
              "fillmode": "overlay",
              "size": 10,
              "solidity": 0.2
             }
            },
            "type": "histogram"
           }
          ],
          "histogram2d": [
           {
            "colorbar": {
             "outlinewidth": 0,
             "ticks": ""
            },
            "colorscale": [
             [
              0,
              "#0d0887"
             ],
             [
              0.1111111111111111,
              "#46039f"
             ],
             [
              0.2222222222222222,
              "#7201a8"
             ],
             [
              0.3333333333333333,
              "#9c179e"
             ],
             [
              0.4444444444444444,
              "#bd3786"
             ],
             [
              0.5555555555555556,
              "#d8576b"
             ],
             [
              0.6666666666666666,
              "#ed7953"
             ],
             [
              0.7777777777777778,
              "#fb9f3a"
             ],
             [
              0.8888888888888888,
              "#fdca26"
             ],
             [
              1,
              "#f0f921"
             ]
            ],
            "type": "histogram2d"
           }
          ],
          "histogram2dcontour": [
           {
            "colorbar": {
             "outlinewidth": 0,
             "ticks": ""
            },
            "colorscale": [
             [
              0,
              "#0d0887"
             ],
             [
              0.1111111111111111,
              "#46039f"
             ],
             [
              0.2222222222222222,
              "#7201a8"
             ],
             [
              0.3333333333333333,
              "#9c179e"
             ],
             [
              0.4444444444444444,
              "#bd3786"
             ],
             [
              0.5555555555555556,
              "#d8576b"
             ],
             [
              0.6666666666666666,
              "#ed7953"
             ],
             [
              0.7777777777777778,
              "#fb9f3a"
             ],
             [
              0.8888888888888888,
              "#fdca26"
             ],
             [
              1,
              "#f0f921"
             ]
            ],
            "type": "histogram2dcontour"
           }
          ],
          "mesh3d": [
           {
            "colorbar": {
             "outlinewidth": 0,
             "ticks": ""
            },
            "type": "mesh3d"
           }
          ],
          "parcoords": [
           {
            "line": {
             "colorbar": {
              "outlinewidth": 0,
              "ticks": ""
             }
            },
            "type": "parcoords"
           }
          ],
          "pie": [
           {
            "automargin": true,
            "type": "pie"
           }
          ],
          "scatter": [
           {
            "fillpattern": {
             "fillmode": "overlay",
             "size": 10,
             "solidity": 0.2
            },
            "type": "scatter"
           }
          ],
          "scatter3d": [
           {
            "line": {
             "colorbar": {
              "outlinewidth": 0,
              "ticks": ""
             }
            },
            "marker": {
             "colorbar": {
              "outlinewidth": 0,
              "ticks": ""
             }
            },
            "type": "scatter3d"
           }
          ],
          "scattercarpet": [
           {
            "marker": {
             "colorbar": {
              "outlinewidth": 0,
              "ticks": ""
             }
            },
            "type": "scattercarpet"
           }
          ],
          "scattergeo": [
           {
            "marker": {
             "colorbar": {
              "outlinewidth": 0,
              "ticks": ""
             }
            },
            "type": "scattergeo"
           }
          ],
          "scattergl": [
           {
            "marker": {
             "colorbar": {
              "outlinewidth": 0,
              "ticks": ""
             }
            },
            "type": "scattergl"
           }
          ],
          "scattermapbox": [
           {
            "marker": {
             "colorbar": {
              "outlinewidth": 0,
              "ticks": ""
             }
            },
            "type": "scattermapbox"
           }
          ],
          "scatterpolar": [
           {
            "marker": {
             "colorbar": {
              "outlinewidth": 0,
              "ticks": ""
             }
            },
            "type": "scatterpolar"
           }
          ],
          "scatterpolargl": [
           {
            "marker": {
             "colorbar": {
              "outlinewidth": 0,
              "ticks": ""
             }
            },
            "type": "scatterpolargl"
           }
          ],
          "scatterternary": [
           {
            "marker": {
             "colorbar": {
              "outlinewidth": 0,
              "ticks": ""
             }
            },
            "type": "scatterternary"
           }
          ],
          "surface": [
           {
            "colorbar": {
             "outlinewidth": 0,
             "ticks": ""
            },
            "colorscale": [
             [
              0,
              "#0d0887"
             ],
             [
              0.1111111111111111,
              "#46039f"
             ],
             [
              0.2222222222222222,
              "#7201a8"
             ],
             [
              0.3333333333333333,
              "#9c179e"
             ],
             [
              0.4444444444444444,
              "#bd3786"
             ],
             [
              0.5555555555555556,
              "#d8576b"
             ],
             [
              0.6666666666666666,
              "#ed7953"
             ],
             [
              0.7777777777777778,
              "#fb9f3a"
             ],
             [
              0.8888888888888888,
              "#fdca26"
             ],
             [
              1,
              "#f0f921"
             ]
            ],
            "type": "surface"
           }
          ],
          "table": [
           {
            "cells": {
             "fill": {
              "color": "#EBF0F8"
             },
             "line": {
              "color": "white"
             }
            },
            "header": {
             "fill": {
              "color": "#C8D4E3"
             },
             "line": {
              "color": "white"
             }
            },
            "type": "table"
           }
          ]
         },
         "layout": {
          "annotationdefaults": {
           "arrowcolor": "#2a3f5f",
           "arrowhead": 0,
           "arrowwidth": 1
          },
          "autotypenumbers": "strict",
          "coloraxis": {
           "colorbar": {
            "outlinewidth": 0,
            "ticks": ""
           }
          },
          "colorscale": {
           "diverging": [
            [
             0,
             "#8e0152"
            ],
            [
             0.1,
             "#c51b7d"
            ],
            [
             0.2,
             "#de77ae"
            ],
            [
             0.3,
             "#f1b6da"
            ],
            [
             0.4,
             "#fde0ef"
            ],
            [
             0.5,
             "#f7f7f7"
            ],
            [
             0.6,
             "#e6f5d0"
            ],
            [
             0.7,
             "#b8e186"
            ],
            [
             0.8,
             "#7fbc41"
            ],
            [
             0.9,
             "#4d9221"
            ],
            [
             1,
             "#276419"
            ]
           ],
           "sequential": [
            [
             0,
             "#0d0887"
            ],
            [
             0.1111111111111111,
             "#46039f"
            ],
            [
             0.2222222222222222,
             "#7201a8"
            ],
            [
             0.3333333333333333,
             "#9c179e"
            ],
            [
             0.4444444444444444,
             "#bd3786"
            ],
            [
             0.5555555555555556,
             "#d8576b"
            ],
            [
             0.6666666666666666,
             "#ed7953"
            ],
            [
             0.7777777777777778,
             "#fb9f3a"
            ],
            [
             0.8888888888888888,
             "#fdca26"
            ],
            [
             1,
             "#f0f921"
            ]
           ],
           "sequentialminus": [
            [
             0,
             "#0d0887"
            ],
            [
             0.1111111111111111,
             "#46039f"
            ],
            [
             0.2222222222222222,
             "#7201a8"
            ],
            [
             0.3333333333333333,
             "#9c179e"
            ],
            [
             0.4444444444444444,
             "#bd3786"
            ],
            [
             0.5555555555555556,
             "#d8576b"
            ],
            [
             0.6666666666666666,
             "#ed7953"
            ],
            [
             0.7777777777777778,
             "#fb9f3a"
            ],
            [
             0.8888888888888888,
             "#fdca26"
            ],
            [
             1,
             "#f0f921"
            ]
           ]
          },
          "colorway": [
           "#636efa",
           "#EF553B",
           "#00cc96",
           "#ab63fa",
           "#FFA15A",
           "#19d3f3",
           "#FF6692",
           "#B6E880",
           "#FF97FF",
           "#FECB52"
          ],
          "font": {
           "color": "#2a3f5f"
          },
          "geo": {
           "bgcolor": "white",
           "lakecolor": "white",
           "landcolor": "#E5ECF6",
           "showlakes": true,
           "showland": true,
           "subunitcolor": "white"
          },
          "hoverlabel": {
           "align": "left"
          },
          "hovermode": "closest",
          "mapbox": {
           "style": "light"
          },
          "paper_bgcolor": "white",
          "plot_bgcolor": "#E5ECF6",
          "polar": {
           "angularaxis": {
            "gridcolor": "white",
            "linecolor": "white",
            "ticks": ""
           },
           "bgcolor": "#E5ECF6",
           "radialaxis": {
            "gridcolor": "white",
            "linecolor": "white",
            "ticks": ""
           }
          },
          "scene": {
           "xaxis": {
            "backgroundcolor": "#E5ECF6",
            "gridcolor": "white",
            "gridwidth": 2,
            "linecolor": "white",
            "showbackground": true,
            "ticks": "",
            "zerolinecolor": "white"
           },
           "yaxis": {
            "backgroundcolor": "#E5ECF6",
            "gridcolor": "white",
            "gridwidth": 2,
            "linecolor": "white",
            "showbackground": true,
            "ticks": "",
            "zerolinecolor": "white"
           },
           "zaxis": {
            "backgroundcolor": "#E5ECF6",
            "gridcolor": "white",
            "gridwidth": 2,
            "linecolor": "white",
            "showbackground": true,
            "ticks": "",
            "zerolinecolor": "white"
           }
          },
          "shapedefaults": {
           "line": {
            "color": "#2a3f5f"
           }
          },
          "ternary": {
           "aaxis": {
            "gridcolor": "white",
            "linecolor": "white",
            "ticks": ""
           },
           "baxis": {
            "gridcolor": "white",
            "linecolor": "white",
            "ticks": ""
           },
           "bgcolor": "#E5ECF6",
           "caxis": {
            "gridcolor": "white",
            "linecolor": "white",
            "ticks": ""
           }
          },
          "title": {
           "x": 0.05
          },
          "xaxis": {
           "automargin": true,
           "gridcolor": "white",
           "linecolor": "white",
           "ticks": "",
           "title": {
            "standoff": 15
           },
           "zerolinecolor": "white",
           "zerolinewidth": 2
          },
          "yaxis": {
           "automargin": true,
           "gridcolor": "white",
           "linecolor": "white",
           "ticks": "",
           "title": {
            "standoff": 15
           },
           "zerolinecolor": "white",
           "zerolinewidth": 2
          }
         }
        },
        "title": {
         "text": "Acidentes por País e Condição Climática"
        },
        "xaxis": {
         "anchor": "y",
         "domain": [
          0,
          1
         ],
         "title": {
          "text": "Country"
         }
        },
        "yaxis": {
         "anchor": "x",
         "domain": [
          0,
          1
         ],
         "title": {
          "text": "acidentes_rodovias"
         }
        }
       }
      }
     },
     "metadata": {},
     "output_type": "display_data"
    }
   ],
   "source": [
    "df_rodovias = pd.read_excel(\"acidentes_analise.xlsx\",sheet_name=\"Acidentes_rodovias\")\n",
    "\n",
    "grafico = px.bar(df_rodovias,x=\"Country\",y=\"acidentes_rodovias\",color=\"Weather\",\n",
    "                 title=\"Acidentes por País e Condição Climática\", barmode=\"group\",text_auto=True\n",
    "                 )\n",
    "\n",
    "grafico.show()"
   ]
  },
  {
   "cell_type": "code",
   "execution_count": 34,
   "metadata": {},
   "outputs": [
    {
     "data": {
      "application/vnd.plotly.v1+json": {
       "config": {
        "plotlyServerURL": "https://plot.ly"
       },
       "data": [
        {
         "hovertemplate": "Number_Vehicles_Involved=%{x}<br>Economic_Loss=%{y}<br>Medical_Cost=%{marker.size}<br>Number_People_Injured=%{marker.color}<extra></extra>",
         "legendgroup": "",
         "marker": {
          "color": [
           0,
           1,
           2,
           3,
           4,
           5,
           6,
           7,
           8,
           9,
           10,
           11,
           12,
           13,
           14,
           15,
           16,
           17,
           18,
           19,
           20,
           21,
           22,
           23,
           0,
           1,
           2,
           3,
           4,
           5,
           6,
           7,
           8,
           9,
           10,
           11,
           12,
           13,
           14,
           15,
           16,
           17,
           18,
           19,
           20,
           21,
           22,
           23,
           0,
           1,
           2,
           3,
           4,
           5,
           6,
           7,
           8,
           9,
           10,
           11,
           12,
           13,
           14,
           15,
           16,
           17,
           18,
           19,
           20,
           21,
           22,
           23,
           0,
           1,
           2,
           3,
           4,
           5,
           6,
           7,
           8,
           9,
           10,
           11,
           12,
           13,
           14,
           15,
           16,
           17,
           18,
           19,
           20,
           21,
           22,
           23,
           0,
           1,
           2,
           3,
           4,
           5,
           6,
           7,
           8,
           9,
           10,
           11,
           12,
           13,
           14,
           15,
           16,
           17,
           18,
           19,
           20,
           21,
           22,
           23,
           0,
           1,
           2,
           3,
           4,
           5,
           6,
           7,
           8,
           9,
           10,
           11,
           12,
           13,
           14,
           15,
           16,
           17,
           18,
           19,
           20,
           21,
           22,
           23,
           0,
           1,
           2,
           3,
           4,
           5,
           6,
           7,
           8,
           9,
           10,
           11,
           12,
           13,
           14,
           15,
           16,
           17,
           18,
           19,
           20,
           21,
           22,
           23,
           0,
           1,
           2,
           3,
           4,
           5,
           6,
           7,
           8,
           9,
           10,
           11,
           12,
           13,
           14,
           15,
           16,
           17,
           18,
           19,
           20,
           21,
           22,
           23,
           0,
           1,
           2,
           3,
           4,
           5,
           6,
           7,
           8,
           9,
           10,
           11,
           12,
           13,
           14,
           15,
           16,
           17,
           18,
           19,
           20,
           21,
           22,
           23,
           0,
           1,
           2,
           3,
           4,
           5,
           6,
           7,
           8,
           9,
           10,
           11,
           12,
           13,
           14,
           15,
           16,
           17,
           18,
           19,
           20,
           21,
           22,
           23,
           0,
           1,
           2,
           3,
           4,
           5,
           6,
           7,
           8,
           9,
           10,
           11,
           12,
           13,
           14,
           15,
           16,
           17,
           18,
           19,
           20,
           21,
           22,
           23,
           0,
           1,
           2,
           3,
           4,
           5,
           6,
           7,
           8,
           9,
           10,
           11,
           12,
           13,
           14,
           15,
           16,
           17,
           18,
           19,
           20,
           21,
           22,
           23,
           0,
           1,
           2,
           3,
           4,
           5,
           6,
           7,
           8,
           9,
           10,
           11,
           12,
           13,
           14,
           15,
           16,
           17,
           18,
           19,
           20,
           21,
           22,
           23,
           0,
           1,
           2,
           3,
           4,
           5,
           6,
           7,
           8,
           9,
           10,
           11,
           12,
           13,
           14,
           15,
           16,
           17,
           18,
           19,
           20,
           21,
           22,
           23,
           0,
           1,
           2,
           3,
           4,
           5,
           6,
           7,
           8,
           9,
           10,
           11,
           12,
           13,
           14,
           15,
           16,
           17,
           18,
           19,
           20,
           21,
           22,
           23,
           0,
           1,
           2,
           3,
           4,
           5,
           6,
           7,
           8,
           9,
           10,
           11,
           12,
           13,
           14,
           15,
           16,
           17,
           18,
           19,
           20,
           21,
           22,
           23,
           0,
           1,
           2,
           3,
           4,
           5,
           6,
           7,
           8,
           9,
           10,
           11,
           12,
           13,
           14,
           15,
           16,
           17,
           18,
           19,
           20,
           21,
           22,
           23,
           0,
           1,
           2,
           3,
           4,
           5,
           6,
           7,
           8,
           9,
           10,
           11,
           12,
           13,
           14,
           15,
           16,
           17,
           18,
           19,
           20,
           21,
           22,
           23,
           0,
           1,
           2,
           3,
           4,
           5,
           6,
           7,
           8,
           9,
           10,
           11,
           12,
           13,
           14,
           15,
           16,
           17,
           18,
           19,
           20,
           21,
           22,
           23,
           0,
           1,
           2,
           3,
           4,
           5,
           6,
           7,
           8,
           9,
           10,
           11,
           12,
           13,
           14,
           15,
           16,
           17,
           18,
           19,
           20,
           21,
           22,
           23,
           0,
           1,
           2,
           3,
           4,
           5,
           6,
           7,
           8,
           9,
           10,
           11,
           12,
           13,
           14,
           15,
           16,
           17,
           18,
           19,
           20,
           21,
           22,
           23,
           0,
           1,
           2,
           3,
           4,
           5,
           6,
           7,
           8,
           9,
           10,
           11,
           12,
           13,
           14,
           15,
           16,
           17,
           18,
           19,
           20,
           21,
           22,
           23,
           0,
           1,
           2,
           3,
           4,
           5,
           6,
           7,
           8,
           9,
           10,
           11,
           12,
           13,
           14,
           15,
           16,
           17,
           18,
           19,
           20,
           21,
           22,
           23,
           0,
           1,
           2,
           3,
           4,
           5,
           6,
           7,
           8,
           9,
           10,
           11,
           12,
           13,
           14,
           15,
           16,
           17,
           18,
           19,
           20,
           21,
           22,
           23,
           0,
           1,
           2,
           3,
           4,
           5,
           6,
           7,
           8,
           9,
           10,
           11,
           12,
           13,
           14,
           15,
           16,
           17,
           18,
           19,
           20,
           21,
           22,
           23,
           0,
           1,
           2,
           3,
           4,
           5,
           6,
           7,
           8,
           9,
           10,
           11,
           12,
           13,
           14,
           15,
           16,
           17,
           18,
           19,
           20,
           21,
           22,
           23,
           0,
           1,
           2,
           3,
           4,
           5,
           6,
           7,
           8,
           9,
           10,
           11,
           12,
           13,
           14,
           15,
           16,
           17,
           18,
           19,
           20,
           21,
           22,
           23,
           0,
           1,
           2,
           3,
           4,
           5,
           6,
           7,
           8,
           9,
           10,
           11,
           12,
           13,
           14,
           15,
           16,
           17,
           18,
           19,
           20,
           21,
           22,
           23,
           0,
           1,
           2,
           3,
           4,
           5,
           6,
           7,
           8,
           9,
           10,
           11,
           12,
           13,
           14,
           15,
           16,
           17,
           18,
           19,
           20,
           21,
           22,
           23,
           0,
           1,
           2,
           3,
           4,
           5,
           6,
           7,
           8,
           9,
           10,
           11,
           12,
           13,
           14,
           15,
           16,
           17,
           18,
           19,
           20,
           21,
           22,
           23,
           0,
           1,
           2,
           3,
           4,
           5,
           6,
           7,
           8,
           9,
           10,
           11,
           12,
           13,
           14,
           15,
           16,
           17,
           18,
           19,
           20,
           21,
           22,
           23,
           0,
           1,
           2,
           3,
           4,
           5,
           6,
           7,
           8,
           9,
           10,
           11,
           12,
           13,
           14,
           15,
           16,
           17,
           18,
           19,
           20,
           21,
           22,
           23,
           0,
           1,
           2,
           3,
           4,
           5,
           6,
           7,
           8,
           9,
           10,
           11,
           12,
           13,
           14,
           15,
           16,
           17,
           18,
           19,
           20,
           21,
           22,
           23,
           0,
           1,
           2,
           3,
           4,
           5,
           6,
           7,
           8,
           9,
           10,
           11,
           12,
           13,
           14,
           15,
           16,
           17,
           18,
           19,
           20,
           21,
           22,
           23,
           0,
           1,
           2,
           3,
           4,
           5,
           6,
           7,
           8,
           9,
           10,
           11,
           12,
           13,
           14,
           15,
           16,
           17,
           18,
           19,
           20,
           21,
           22,
           23,
           0,
           1,
           2,
           3,
           4,
           5,
           6,
           7,
           8,
           9,
           10,
           11,
           12,
           13,
           14,
           15,
           16,
           17,
           18,
           19,
           20,
           21,
           22,
           23,
           0,
           1,
           2,
           3,
           4,
           5,
           6,
           7,
           8,
           9,
           10,
           11,
           12,
           13,
           14,
           15,
           16,
           17,
           18,
           19,
           20,
           21,
           22,
           23,
           0,
           1,
           2,
           3,
           4,
           5,
           6,
           7,
           8,
           9,
           10,
           11,
           12,
           13,
           14,
           15,
           16,
           17,
           18,
           19,
           20,
           21,
           22,
           23,
           0,
           1,
           2,
           3,
           4,
           5,
           6,
           7,
           8,
           9,
           10,
           11,
           12,
           13,
           14,
           15,
           16,
           17,
           18,
           19,
           20,
           21,
           22,
           23,
           0,
           1,
           2,
           3,
           4,
           5,
           6,
           7,
           8,
           9,
           10,
           11,
           12,
           13,
           14,
           15,
           16,
           17,
           18,
           19,
           20,
           21,
           22,
           23
          ],
          "coloraxis": "coloraxis",
          "size": [
           1166558.002788166,
           1660142.29208658,
           2308345.268945438,
           3492127.938339778,
           4110808.667631391,
           4873301.886412414,
           4531830.163908265,
           3723977.203123433,
           4570870.803821702,
           4241995.623043418,
           3975411.352595218,
           4350388.961190214,
           3897728.763990324,
           4553436.066195453,
           4037871.119908567,
           4636443.706833202,
           4310683.235181088,
           3405547.385772643,
           4173066.728914567,
           3983224.016688281,
           3610490.920472585,
           2483651.729547522,
           1627563.821643285,
           522271.5416153521,
           903100.5368476671,
           1356245.700376971,
           2479678.123470523,
           3473256.504161976,
           3681995.002294409,
           4092650.694272517,
           4790816.885756025,
           3994472.776259089,
           3770285.93199711,
           4202242.956999808,
           4312533.72076334,
           4282467.11307708,
           4165004.016724686,
           3958010.7213624,
           4393223.720606916,
           4151440.553295282,
           3997714.231363432,
           4192060.607307605,
           3835931.49932213,
           4413968.493189018,
           3679131.236756961,
           1957963.600843941,
           1672533.327954567,
           725469.3854495065,
           617363.7046740482,
           1678729.397364199,
           2775480.450627162,
           3777866.702642042,
           4219533.511340621,
           3847781.618071931,
           4535614.06801022,
           3883617.480490577,
           5324604.605827178,
           4198929.598357287,
           4066865.942430814,
           3845317.471150646,
           4099987.995154112,
           4328399.395367713,
           3904247.04113058,
           4040853.173415265,
           3919348.80222426,
           4383131.691948981,
           4393141.627654227,
           4010518.699005125,
           3235747.800122496,
           2522266.627072536,
           1743156.537849336,
           1088497.942388248,
           956302.6066522512,
           2036743.691141907,
           2463373.578045743,
           3254092.828990884,
           4165049.868638331,
           4043235.222796008,
           3964693.018672371,
           4507931.85226627,
           3987302.787175281,
           3621475.918548432,
           3847428.483339418,
           4365278.645865845,
           4237914.517883731,
           4577753.706250028,
           4399218.113623537,
           4259595.305811651,
           4060986.260812436,
           4917392.155474265,
           4088315.130983262,
           4503100.422661568,
           3299641.77628952,
           2249815.87241329,
           1751901.132044458,
           575400.4274640424,
           1056926.450114249,
           1644182.78717305,
           2175823.343408084,
           4128156.07496452,
           4073895.922891487,
           3787674.060864244,
           4289389.870850364,
           4463514.595083322,
           3614664.614717038,
           4186151.643561042,
           3812720.351542858,
           3648975.326053855,
           4058733.284483031,
           3910981.09904172,
           3609879.693316646,
           3939542.789427795,
           4181409.629692307,
           4702955.909743627,
           3756761.414373596,
           3874572.65523791,
           3119052.213626432,
           2188905.753437723,
           1320497.770936869,
           648234.6801394692,
           1147872.053509907,
           1516171.859915377,
           2172418.480407568,
           2910243.526601899,
           3223276.411504888,
           4848699.438490652,
           4653701.016968518,
           3757355.560194398,
           4132128.802913926,
           3933304.078464607,
           4747347.681886436,
           3867051.442237455,
           3875590.689109174,
           3849332.634223628,
           4492477.197060349,
           3885328.23088553,
           4832937.443336857,
           4593996.884892473,
           4469624.04831489,
           4457713.6321612,
           3769163.739464226,
           2893701.625486529,
           2089990.729760045,
           582894.1369881259,
           823904.2642161374,
           1235824.731173272,
           1965921.625927329,
           3732167.957128252,
           4283806.03009019,
           3829324.994860787,
           4630821.74613448,
           4412112.480865406,
           4276217.496764245,
           4782601.904511226,
           4452744.474401062,
           4171270.753829364,
           4194983.955195921,
           4269463.476563458,
           4720815.113510211,
           4385648.793997243,
           3974208.145291546,
           4260685.560529717,
           4056560.489437601,
           3993668.822107257,
           3829658.99723945,
           2489854.71355764,
           2267911.90720792,
           762499.8116874077,
           966562.8007940383,
           1927500.830086388,
           2919108.582326608,
           3448210.135760559,
           4197580.183049282,
           3891546.598668314,
           3929396.813015638,
           4870730.828629434,
           3886310.148564736,
           3868998.827157701,
           3447362.131874889,
           4060531.796056672,
           4142353.605993005,
           4556026.790498585,
           3741241.350851135,
           4010833.348515275,
           4547334.16947469,
           4058945.648627423,
           4573343.39906943,
           4206319.47514395,
           2915760.476676648,
           2930311.623732151,
           2155531.536354679,
           838850.5935326122,
           1110727.404042031,
           1586209.298844076,
           3037362.379475087,
           3322114.780860806,
           4787361.264586619,
           4113814.257924243,
           4680684.336652352,
           4146521.425743974,
           4011916.819753815,
           4548332.994033984,
           4286986.642932051,
           4519314.489471168,
           3896915.398183674,
           4072866.842598747,
           4595260.43507625,
           4304467.257917424,
           4575682.738422251,
           3833168.563604338,
           4052841.46833931,
           4661821.075194946,
           3660064.977481351,
           2123477.675125483,
           1964170.960813318,
           932781.6402314669,
           944109.8110885475,
           1914205.93735844,
           2626869.79095275,
           3653375.036361326,
           4349915.395400877,
           4254139.348739143,
           4129361.80274348,
           3797619.096075411,
           4669541.411940455,
           4603237.412849851,
           4491528.336437745,
           4132385.264127486,
           4487935.097345342,
           4508433.824432843,
           4046776.350179555,
           3910939.009361424,
           4256475.340170155,
           3711941.748487442,
           4553125.302028263,
           4166341.160393947,
           3105687.638566074,
           2219698.766631343,
           1410243.170126489,
           525577.4772665714,
           557248.3876938138,
           2028666.702816807,
           2532768.565087145,
           2568685.763291328,
           3831012.969100659,
           3711941.372363945,
           3878464.340242072,
           3884353.702113935,
           3733364.83916668,
           4185654.101087497,
           4252216.798527818,
           4039216.874829892,
           3841661.856837447,
           4408640.500171468,
           4629598.672001617,
           4412610.995802388,
           4063824.674914041,
           4030826.372845633,
           4384084.432762725,
           3827831.829169672,
           4284782.901765126,
           2529958.498608198,
           1783666.373704465,
           707583.6888321339,
           780627.0103892613,
           1278881.003494983,
           2369415.413440585,
           3598980.67630067,
           4525011.089047351,
           3738226.596778318,
           4460223.423271373,
           4937123.830647251,
           4555375.554292149,
           3966581.361954026,
           4904497.154414124,
           3917328.224344998,
           4473764.988988524,
           4173627.212312303,
           3811087.033375301,
           3887370.691103625,
           3978127.023035682,
           4123154.387618817,
           4145988.131512325,
           4692427.078293954,
           3437289.118339804,
           2742520.17003409,
           1382799.743584449,
           863027.8338975529,
           944450.9364160976,
           1436563.338457369,
           2776430.168563129,
           3246291.210438793,
           4201343.717973744,
           3785306.523280072,
           4688463.368489538,
           4309359.940871869,
           3659476.111821032,
           4133392.539399959,
           4548169.404447604,
           4221800.855789389,
           4268625.913436356,
           4048037.903078473,
           3757751.230832871,
           4314683.97699106,
           3777180.009153645,
           4035303.912712764,
           4421728.434483201,
           4036840.86142169,
           3241247.156822559,
           2492221.359133767,
           2119364.452380001,
           843632.9706076658,
           633806.4600670211,
           1679167.314707787,
           2816513.981697244,
           2830269.01063673,
           3690466.984216272,
           3926761.226707759,
           3698012.91362814,
           4300029.154702501,
           4709183.546601643,
           4750741.494762035,
           4205862.352830253,
           3876445.329913949,
           4074432.873917828,
           3932845.839705135,
           4295319.537688532,
           4042984.401789995,
           3551974.422475946,
           3832701.533023239,
           4556632.703631765,
           3840173.407754465,
           3040746.222691068,
           3029376.593195849,
           1632289.941669471,
           740523.8376190962,
           825646.4853592707,
           1335217.776774662,
           2578811.405510848,
           3600664.662098563,
           3768487.864599855,
           4529162.118400092,
           4391971.034112033,
           4110941.632751412,
           3878350.388904852,
           3872408.711087982,
           4129369.403275646,
           3994823.639143763,
           3926673.154362543,
           4505182.386811027,
           4473125.327212574,
           4847449.326283146,
           3770835.226929109,
           3962121.293325699,
           3900214.792997251,
           4339976.169307509,
           3106068.490585952,
           1888797.267826562,
           1814376.701106524,
           810404.600035097,
           1085565.48464475,
           1584533.706209694,
           2516497.336229672,
           3087952.05710711,
           4240036.082072793,
           4671642.48314566,
           4319299.589404863,
           4157622.915902921,
           3873823.975888141,
           4302275.930608502,
           3774812.919059589,
           4116248.925780645,
           3501298.922282757,
           4562645.280278512,
           3901039.91301456,
           4346960.095353912,
           4264424.186690496,
           4643261.47945864,
           4089209.060507528,
           3805508.610895712,
           3414195.450087257,
           2437905.194450879,
           1509374.292282304,
           781036.8948102405,
           707735.985744811,
           1581364.538606255,
           2348811.342464813,
           3353369.601881153,
           4496505.896587439,
           3851439.470358724,
           4779478.996822462,
           3869920.604458728,
           4166324.658724664,
           4339867.516942878,
           4240841.163150664,
           4100606.736461263,
           3981788.99914457,
           4490557.681226797,
           3547214.151545708,
           3321393.304375999,
           4883424.596113508,
           4738627.942268985,
           4002854.663433695,
           4472163.408134911,
           3584731.185539356,
           2873154.399529893,
           1660544.731671762,
           902395.5320094523,
           1013383.128540301,
           1267111.608146624,
           2330064.811150666,
           3569485.146207318,
           4202252.831987018,
           4499413.59755736,
           4426515.959990997,
           4246806.82493567,
           4109411.383500912,
           4200431.4953666,
           4280413.364110378,
           3800733.790529836,
           4309398.272100451,
           3767328.865801859,
           4362151.485536543,
           4232794.119764563,
           4275155.251467342,
           4013266.441101567,
           4213483.329888937,
           3969157.417313212,
           3455596.613401468,
           2457582.707175209,
           1468961.103947097,
           954200.8601783334,
           975020.7199361037,
           1659153.637150967,
           2680145.412271313,
           3417065.902367438,
           4325123.736283401,
           4298018.600159438,
           4618667.473963524,
           4197388.707702757,
           4280368.292275993,
           3983992.980264424,
           4272984.585125886,
           4014460.710254281,
           3925817.464221372,
           3655860.081158677,
           3815587.209379731,
           4078729.478008287,
           4172139.571648973,
           3588085.678257193,
           3904819.92718491,
           4501902.154921522,
           3685520.793530791,
           2364576.366156623,
           1832132.782923065,
           704765.7159990857,
           1022836.131172761,
           1678018.392124131,
           2143216.120240003,
           3621418.916097117,
           3789585.641265995,
           4317823.917286623,
           4254175.940800326,
           3327005.620151375,
           4106943.031260085,
           4080085.287548966,
           3869379.222957625,
           4383217.918531181,
           3937168.99688861,
           3889403.043249323,
           4273886.609037664,
           4172891.389570544,
           4338676.324607347,
           4756953.971497923,
           4200046.305789837,
           4125996.229251693,
           3707765.722345018,
           2451463.017827407,
           1617832.356296193,
           705898.3938836819,
           699172.6409211517,
           1631825.152004176,
           2657718.711477074,
           3432738.110804115,
           4432143.263382905,
           3487358.767611298,
           3818993.59737468,
           4201634.390899108,
           4720808.459856748,
           3680859.890993888,
           3759731.071944118,
           4193749.944506811,
           4156531.020524788,
           3352690.354782875,
           4117477.746890516,
           4028594.760652524,
           4444743.823959949,
           4548079.187479354,
           4914101.274208262,
           4273135.445247828,
           3017257.938472642,
           2509178.656149248,
           1738715.353999127,
           446510.8333596666,
           1006310.489208525,
           2098193.653286918,
           2449624.095759772,
           3170739.967481507,
           4371445.315328391,
           3832093.02279393,
           4149465.368255209,
           4034114.307838454,
           3948008.768243562,
           4367125.868284795,
           3839986.078085042,
           4246680.296346364,
           3392408.139661292,
           3934377.908799404,
           4173338.022519299,
           3781510.191282166,
           3429702.543240762,
           3686737.061354854,
           4451183.40662296,
           4675834.763640836,
           3952336.202658331,
           2269193.073818107,
           1779847.423438183,
           1054242.376518334,
           759218.5898520282,
           2001361.387060285,
           2222286.310938768,
           3418302.775873125,
           4460123.286164922,
           4556444.162675991,
           4098245.941572201,
           4263805.490829441,
           4539157.622982842,
           4616660.905090956,
           4106949.492001161,
           4288259.6185578,
           4558771.518656595,
           4268089.256445489,
           4674012.2283777,
           3692501.246927772,
           4904530.426650234,
           3929444.320935021,
           4310730.298810222,
           4129858.854829838,
           2964434.266125679,
           2533082.71785136,
           2248985.091095426,
           843388.1193715672,
           1033424.460267902,
           1584398.595385886,
           2978201.617875776,
           3587673.007391411,
           3964959.04431299,
           3307461.339875702,
           3862184.775658555,
           4574304.99492882,
           4574624.23096887,
           3918840.28271441,
           4228926.262302287,
           4293679.222517142,
           4303535.524746171,
           4399288.35754359,
           3495814.481053251,
           4133550.414147705,
           3759687.830313586,
           3941311.510536132,
           4335520.365928406,
           4416619.025901517,
           3497542.545246063,
           2712294.364228285,
           1382191.319919423,
           797366.906047804,
           984410.0422257668,
           1811949.003682752,
           2670629.824270846,
           3286780.771219835,
           3575922.33298878,
           3638130.030289865,
           4279521.33917605,
           4944887.934887274,
           3651640.266695201,
           3885457.261779481,
           4574446.688285634,
           4311319.18811403,
           4578659.296908958,
           4341541.182928232,
           4651634.427542476,
           4001847.408224936,
           4237543.854694339,
           4618734.439146233,
           4282418.473974699,
           4279056.932239855,
           2857503.480024152,
           2415806.688532189,
           1848446.548037025,
           1062257.524951445,
           902078.4119504553,
           1312200.175182987,
           2657175.629062805,
           2971385.117623526,
           3578341.376370084,
           4349190.789004604,
           3683907.918789383,
           4048644.740688428,
           3914644.597236539,
           3688423.918878189,
           4278217.56698586,
           4012466.671324914,
           4436380.098244104,
           3597658.768668383,
           4059422.752500449,
           4011037.526559917,
           3485289.384355269,
           3662839.800968502,
           3440362.579136242,
           4536277.232737975,
           3132158.383175404,
           2248956.002401512,
           1694866.125730756,
           527504.9290348946,
           711629.0842751663,
           1955760.206260019,
           1823986.136854929,
           3354219.371706768,
           3831925.376392224,
           4292723.918328228,
           4550321.717578092,
           4944458.288970328,
           4081455.357127595,
           3448838.583615865,
           4319932.536063066,
           4081516.989278797,
           3699970.802306824,
           4136447.576701088,
           4690111.214114012,
           4209739.446356877,
           3911651.13329151,
           4318049.189096804,
           4232611.054761953,
           4173071.67544229,
           3757907.41841729,
           2531985.286198443,
           1767331.06106216,
           845227.2412963498,
           769049.803493125,
           1486520.832141169,
           2965414.164603591,
           4046863.71682716,
           4111176.015298758,
           3822969.444751184,
           4492213.193160982,
           3301618.074466299,
           3043521.836625635,
           4011645.351119739,
           4138697.870087326,
           3899079.486605646,
           4547720.349010804,
           4203990.930490017,
           3805746.695895791,
           4077839.209473494,
           3795286.390821315,
           4261414.792443908,
           3835942.522146308,
           3422328.919269587,
           3257025.757061694,
           2847929.058902288,
           1484232.509380748,
           1076842.689686496,
           1113927.001624717,
           1437276.600042303,
           2753975.912917712,
           2983819.280249027,
           3732829.844024379,
           4671824.657637826,
           4314741.314626464,
           3860872.256063026,
           4282680.95928527,
           4548970.205910067,
           4545850.800719569,
           4513036.432862573,
           4046748.646997534,
           3390662.508713716,
           3630160.450152086,
           3961105.297282275,
           4292591.659009811,
           3766154.431466324,
           3998596.341805039,
           3611784.387813127,
           2918241.675134358,
           2284187.111081304,
           2029399.779179518,
           607979.8393350318,
           808663.8304465509,
           2078069.56619434,
           2891974.231250945,
           3163940.094418805,
           4484672.895975807,
           3986361.388004539,
           3686765.060583579,
           3923902.154356708,
           4005183.060439257,
           4474989.814502196,
           4468628.915605245,
           4273045.806903558,
           4484978.294235493,
           4907981.932854104,
           3822585.939710077,
           3886221.074647706,
           4418183.517970425,
           4440937.415273461,
           3742349.110357596,
           3967991.057189384,
           3345240.880490643,
           2772587.95905728,
           1694376.107021497,
           891487.132589882,
           965612.1996389038,
           1376631.407233579,
           2470498.728886394,
           3212826.391927627,
           4136603.950732344,
           3790232.791075448,
           3608601.423369052,
           4618872.84202773,
           3994674.215924016,
           4194312.396657521,
           4293634.28723103,
           4370185.968000443,
           4358659.662761187,
           4225037.673320678,
           3926673.671158217,
           4059807.948746713,
           4045212.563166422,
           3958170.963888282,
           3488805.812450718,
           4229654.693284384,
           2961743.033687979,
           2465920.236527385,
           1420593.057215727,
           921332.4901956612,
           685721.7868114405,
           1526443.460634484,
           2425194.467480542,
           3467678.621186315,
           3910104.096669104,
           3923556.569038045,
           4390108.202111265,
           3527907.014821119,
           4047642.968423146,
           4104118.429592061,
           4410427.930399317,
           4386453.101301112,
           4400432.148740123,
           3817385.774577905,
           3060538.747877718,
           4093886.106564243,
           3869680.97981229,
           4692085.243326933,
           4499876.772767923,
           3442921.339918619,
           3337289.103921865,
           2574304.76391318,
           1486159.752257722,
           607295.1572360444,
           798090.4624156344,
           1802005.985822343,
           2808357.835808073,
           3074747.506201851,
           3590744.145301916,
           3866975.154510595,
           4141951.953952375,
           4445308.255751989,
           4136525.169589873,
           4365774.151491923,
           3947022.889134336,
           4141022.461315961,
           3943329.753624555,
           3779122.895954854,
           4291903.246506197,
           4210821.168301414,
           3901592.330138492,
           4245900.694569466,
           4238527.553799831,
           3672565.435076684,
           3280914.383941233,
           2851649.817845519,
           1681836.904169608,
           682226.9140285824,
           796181.9144784245,
           1367599.068768129,
           2927150.496453318,
           3366752.931832557,
           4584519.997571104,
           3931306.740667852,
           4606665.442236103,
           4595383.455683319,
           3700759.611735018,
           4323837.231518004,
           4587484.039810711,
           4643259.041816458,
           3920540.192986076,
           4040319.279392703,
           4067183.911047444,
           3853166.303156765,
           3605631.491601708,
           4749764.824922472,
           3820709.26965506,
           3883160.370724261,
           3498445.895971357,
           2480350.095538621,
           1683097.388710371,
           845824.4502966533,
           934274.8283905643,
           1679289.353426663,
           2603415.132587058,
           2906872.054772749,
           3557113.892163593,
           3585314.090392995,
           4394591.521896141,
           4421943.623771707,
           4348705.605316,
           3971933.724277818,
           4230334.883954499,
           3953828.652710859,
           3990716.767673373,
           3837075.293467983,
           3447692.060491414,
           4387474.311805796,
           4355564.625171896,
           4253618.184249282,
           3727221.691101829,
           3647176.164986035,
           3974294.102669297,
           3036760.171884634,
           1685671.888827429,
           455326.8648015876,
           760868.3970018964,
           1624505.749342023,
           2153389.818948609,
           3147261.271607514,
           3799477.344924048,
           4679150.86327921,
           4137686.521770311,
           4147170.034914673,
           4295162.410423853,
           3895161.030725075,
           5050120.206493533,
           4061803.621238942,
           4847651.84171143,
           4133336.9216333,
           4466663.112381405,
           3641404.875939262,
           4357068.955101881,
           3869349.505573424,
           3987230.407863383,
           4158190.077334669,
           3474339.084640938,
           3025325.00970901,
           1653185.010103589,
           1240344.663778594,
           947371.086927211,
           1570647.448772068,
           2410899.567181538,
           3502542.729944072,
           4420928.281963488,
           3748945.834693586,
           3989996.068889296,
           3918558.354636549,
           4369109.671588364,
           3220217.635635973,
           4533346.732309571,
           4013233.376199743,
           4278701.97411738,
           3547540.643286089,
           4062238.837371637,
           4416877.270588864,
           4227501.181184368,
           4060046.859847377,
           3787989.737468843,
           3235101.90391714,
           3337997.215811771,
           2328359.167754622,
           1473569.276576619,
           703576.3261538716,
           1086569.381417899,
           1603107.803082247,
           2469747.594817655,
           3632388.214321093,
           4353317.761202781,
           4474084.022977117,
           4598657.249882301,
           4135683.315321219,
           3894103.594150323,
           5087793.048433915,
           3494748.670352005,
           4694683.433541694,
           4051307.726049102,
           4271726.375801513,
           4002168.146115586,
           3914596.676571584,
           4499639.250515158,
           4243475.585008099,
           4250549.139307121,
           4292710.16982442,
           3428040.643168571,
           2650397.149895894,
           1310717.270324878,
           1125476.134847102,
           667402.6807596906,
           2007171.965685008,
           2404165.618941068,
           2975124.470051343,
           4562857.246622602,
           4216613.921618156,
           4652949.679454109,
           4348640.781584507,
           3841790.699778636,
           4902894.115281219,
           5023710.072734598,
           4099301.508041948,
           4356252.61769962,
           4439769.813941432,
           4425660.730234998,
           3570554.902803848,
           4605591.271446588,
           3881828.124830843,
           5151999.134271664,
           3898728.738437091,
           3168533.559166342,
           3059727.946317872,
           1993635.94635058,
           1062476.608102988,
           540599.5469937911,
           1949065.203087477,
           2233675.497861708,
           3018915.586571747,
           4309453.270748546,
           3796677.711504876,
           4010501.439407415,
           4455032.44526851,
           4078323.27389259,
           3503455.033169905,
           3819451.711789353,
           3993853.413494463,
           3645865.763513494,
           3881358.460903291,
           4316021.003223045,
           4412049.704982701,
           3885484.500943657,
           3719311.232309506,
           4222030.779587909,
           4136484.375222526,
           3178583.641431027,
           2588147.011018116,
           2086024.176419433,
           702959.6155594578
          ],
          "sizemode": "area",
          "sizeref": 13311.511514567945,
          "symbol": "circle"
         },
         "mode": "markers",
         "name": "",
         "orientation": "v",
         "showlegend": false,
         "type": "scatter",
         "x": [
          1,
          1,
          1,
          1,
          1,
          1,
          1,
          1,
          1,
          1,
          1,
          1,
          1,
          1,
          1,
          1,
          1,
          1,
          1,
          1,
          1,
          1,
          1,
          1,
          2,
          2,
          2,
          2,
          2,
          2,
          2,
          2,
          2,
          2,
          2,
          2,
          2,
          2,
          2,
          2,
          2,
          2,
          2,
          2,
          2,
          2,
          2,
          2,
          3,
          3,
          3,
          3,
          3,
          3,
          3,
          3,
          3,
          3,
          3,
          3,
          3,
          3,
          3,
          3,
          3,
          3,
          3,
          3,
          3,
          3,
          3,
          3,
          4,
          4,
          4,
          4,
          4,
          4,
          4,
          4,
          4,
          4,
          4,
          4,
          4,
          4,
          4,
          4,
          4,
          4,
          4,
          4,
          4,
          4,
          4,
          4,
          1,
          1,
          1,
          1,
          1,
          1,
          1,
          1,
          1,
          1,
          1,
          1,
          1,
          1,
          1,
          1,
          1,
          1,
          1,
          1,
          1,
          1,
          1,
          1,
          2,
          2,
          2,
          2,
          2,
          2,
          2,
          2,
          2,
          2,
          2,
          2,
          2,
          2,
          2,
          2,
          2,
          2,
          2,
          2,
          2,
          2,
          2,
          2,
          3,
          3,
          3,
          3,
          3,
          3,
          3,
          3,
          3,
          3,
          3,
          3,
          3,
          3,
          3,
          3,
          3,
          3,
          3,
          3,
          3,
          3,
          3,
          3,
          4,
          4,
          4,
          4,
          4,
          4,
          4,
          4,
          4,
          4,
          4,
          4,
          4,
          4,
          4,
          4,
          4,
          4,
          4,
          4,
          4,
          4,
          4,
          4,
          1,
          1,
          1,
          1,
          1,
          1,
          1,
          1,
          1,
          1,
          1,
          1,
          1,
          1,
          1,
          1,
          1,
          1,
          1,
          1,
          1,
          1,
          1,
          1,
          2,
          2,
          2,
          2,
          2,
          2,
          2,
          2,
          2,
          2,
          2,
          2,
          2,
          2,
          2,
          2,
          2,
          2,
          2,
          2,
          2,
          2,
          2,
          2,
          3,
          3,
          3,
          3,
          3,
          3,
          3,
          3,
          3,
          3,
          3,
          3,
          3,
          3,
          3,
          3,
          3,
          3,
          3,
          3,
          3,
          3,
          3,
          3,
          4,
          4,
          4,
          4,
          4,
          4,
          4,
          4,
          4,
          4,
          4,
          4,
          4,
          4,
          4,
          4,
          4,
          4,
          4,
          4,
          4,
          4,
          4,
          4,
          1,
          1,
          1,
          1,
          1,
          1,
          1,
          1,
          1,
          1,
          1,
          1,
          1,
          1,
          1,
          1,
          1,
          1,
          1,
          1,
          1,
          1,
          1,
          1,
          2,
          2,
          2,
          2,
          2,
          2,
          2,
          2,
          2,
          2,
          2,
          2,
          2,
          2,
          2,
          2,
          2,
          2,
          2,
          2,
          2,
          2,
          2,
          2,
          3,
          3,
          3,
          3,
          3,
          3,
          3,
          3,
          3,
          3,
          3,
          3,
          3,
          3,
          3,
          3,
          3,
          3,
          3,
          3,
          3,
          3,
          3,
          3,
          4,
          4,
          4,
          4,
          4,
          4,
          4,
          4,
          4,
          4,
          4,
          4,
          4,
          4,
          4,
          4,
          4,
          4,
          4,
          4,
          4,
          4,
          4,
          4,
          1,
          1,
          1,
          1,
          1,
          1,
          1,
          1,
          1,
          1,
          1,
          1,
          1,
          1,
          1,
          1,
          1,
          1,
          1,
          1,
          1,
          1,
          1,
          1,
          2,
          2,
          2,
          2,
          2,
          2,
          2,
          2,
          2,
          2,
          2,
          2,
          2,
          2,
          2,
          2,
          2,
          2,
          2,
          2,
          2,
          2,
          2,
          2,
          3,
          3,
          3,
          3,
          3,
          3,
          3,
          3,
          3,
          3,
          3,
          3,
          3,
          3,
          3,
          3,
          3,
          3,
          3,
          3,
          3,
          3,
          3,
          3,
          4,
          4,
          4,
          4,
          4,
          4,
          4,
          4,
          4,
          4,
          4,
          4,
          4,
          4,
          4,
          4,
          4,
          4,
          4,
          4,
          4,
          4,
          4,
          4,
          1,
          1,
          1,
          1,
          1,
          1,
          1,
          1,
          1,
          1,
          1,
          1,
          1,
          1,
          1,
          1,
          1,
          1,
          1,
          1,
          1,
          1,
          1,
          1,
          2,
          2,
          2,
          2,
          2,
          2,
          2,
          2,
          2,
          2,
          2,
          2,
          2,
          2,
          2,
          2,
          2,
          2,
          2,
          2,
          2,
          2,
          2,
          2,
          3,
          3,
          3,
          3,
          3,
          3,
          3,
          3,
          3,
          3,
          3,
          3,
          3,
          3,
          3,
          3,
          3,
          3,
          3,
          3,
          3,
          3,
          3,
          3,
          4,
          4,
          4,
          4,
          4,
          4,
          4,
          4,
          4,
          4,
          4,
          4,
          4,
          4,
          4,
          4,
          4,
          4,
          4,
          4,
          4,
          4,
          4,
          4,
          1,
          1,
          1,
          1,
          1,
          1,
          1,
          1,
          1,
          1,
          1,
          1,
          1,
          1,
          1,
          1,
          1,
          1,
          1,
          1,
          1,
          1,
          1,
          1,
          2,
          2,
          2,
          2,
          2,
          2,
          2,
          2,
          2,
          2,
          2,
          2,
          2,
          2,
          2,
          2,
          2,
          2,
          2,
          2,
          2,
          2,
          2,
          2,
          3,
          3,
          3,
          3,
          3,
          3,
          3,
          3,
          3,
          3,
          3,
          3,
          3,
          3,
          3,
          3,
          3,
          3,
          3,
          3,
          3,
          3,
          3,
          3,
          4,
          4,
          4,
          4,
          4,
          4,
          4,
          4,
          4,
          4,
          4,
          4,
          4,
          4,
          4,
          4,
          4,
          4,
          4,
          4,
          4,
          4,
          4,
          4,
          1,
          1,
          1,
          1,
          1,
          1,
          1,
          1,
          1,
          1,
          1,
          1,
          1,
          1,
          1,
          1,
          1,
          1,
          1,
          1,
          1,
          1,
          1,
          1,
          2,
          2,
          2,
          2,
          2,
          2,
          2,
          2,
          2,
          2,
          2,
          2,
          2,
          2,
          2,
          2,
          2,
          2,
          2,
          2,
          2,
          2,
          2,
          2,
          3,
          3,
          3,
          3,
          3,
          3,
          3,
          3,
          3,
          3,
          3,
          3,
          3,
          3,
          3,
          3,
          3,
          3,
          3,
          3,
          3,
          3,
          3,
          3,
          4,
          4,
          4,
          4,
          4,
          4,
          4,
          4,
          4,
          4,
          4,
          4,
          4,
          4,
          4,
          4,
          4,
          4,
          4,
          4,
          4,
          4,
          4,
          4,
          1,
          1,
          1,
          1,
          1,
          1,
          1,
          1,
          1,
          1,
          1,
          1,
          1,
          1,
          1,
          1,
          1,
          1,
          1,
          1,
          1,
          1,
          1,
          1,
          2,
          2,
          2,
          2,
          2,
          2,
          2,
          2,
          2,
          2,
          2,
          2,
          2,
          2,
          2,
          2,
          2,
          2,
          2,
          2,
          2,
          2,
          2,
          2,
          3,
          3,
          3,
          3,
          3,
          3,
          3,
          3,
          3,
          3,
          3,
          3,
          3,
          3,
          3,
          3,
          3,
          3,
          3,
          3,
          3,
          3,
          3,
          3,
          4,
          4,
          4,
          4,
          4,
          4,
          4,
          4,
          4,
          4,
          4,
          4,
          4,
          4,
          4,
          4,
          4,
          4,
          4,
          4,
          4,
          4,
          4,
          4,
          1,
          1,
          1,
          1,
          1,
          1,
          1,
          1,
          1,
          1,
          1,
          1,
          1,
          1,
          1,
          1,
          1,
          1,
          1,
          1,
          1,
          1,
          1,
          1,
          2,
          2,
          2,
          2,
          2,
          2,
          2,
          2,
          2,
          2,
          2,
          2,
          2,
          2,
          2,
          2,
          2,
          2,
          2,
          2,
          2,
          2,
          2,
          2,
          3,
          3,
          3,
          3,
          3,
          3,
          3,
          3,
          3,
          3,
          3,
          3,
          3,
          3,
          3,
          3,
          3,
          3,
          3,
          3,
          3,
          3,
          3,
          3,
          4,
          4,
          4,
          4,
          4,
          4,
          4,
          4,
          4,
          4,
          4,
          4,
          4,
          4,
          4,
          4,
          4,
          4,
          4,
          4,
          4,
          4,
          4,
          4
         ],
         "xaxis": "x",
         "y": [
          2458177.121402406,
          3178872.368862465,
          4271267.807473671,
          6405427.975172603,
          7982081.202974278,
          8835026.91432229,
          8573500.819811676,
          8473196.731983254,
          7900825.14817674,
          8839668.397509245,
          8642259.12598193,
          7414088.298832766,
          7182643.57994394,
          8770640.384004181,
          7623936.986364821,
          8301850.588384391,
          8623488.744480811,
          7844814.276677232,
          8840706.264368856,
          8327413.709545382,
          7918184.250825873,
          5166797.990428973,
          3643829.47853593,
          1208671.138499236,
          1763143.202008733,
          2893268.257577433,
          5085048.656047738,
          7280965.64677216,
          7271442.435654168,
          8309867.788592177,
          9908688.580134941,
          7686382.513315639,
          7467491.810048713,
          8501309.870395517,
          7960123.748180154,
          9021321.220486322,
          7823039.929557338,
          7790014.918585704,
          8280507.428361115,
          9036831.855789624,
          7992207.896906382,
          8883963.058885101,
          8272153.077201432,
          8705561.79566019,
          7371354.447533929,
          4020414.579836373,
          3347012.95171864,
          1667028.176831076,
          1074862.527559894,
          2941822.307424375,
          5583405.528010423,
          6748074.648905625,
          8817478.062270956,
          7856408.263411901,
          7567618.007680554,
          7582792.450127045,
          10425286.93744819,
          8959256.788958859,
          7856967.863025347,
          7794155.669397868,
          9819138.907949204,
          9289424.011884747,
          8613274.065467311,
          7845234.574907357,
          8051637.795245371,
          8542189.992592046,
          9196192.186845891,
          8019709.045151022,
          6376900.347967174,
          5543342.274629575,
          3047930.473899726,
          1916154.580608716,
          1661195.60012626,
          3926897.802460145,
          4804837.152683721,
          6238662.580703593,
          8359586.114157079,
          7514432.307256497,
          7038036.098516608,
          8958373.621539462,
          8452030.641580386,
          7030292.793990765,
          7005319.050864222,
          8063004.86848686,
          7893913.530066238,
          9147925.490483742,
          9609701.247030647,
          7801336.875895185,
          7981392.718824076,
          10048546.04333036,
          7847707.955993317,
          7970284.914724352,
          7396881.764508948,
          4677413.733285562,
          3587949.944555006,
          1479697.523831055,
          2048058.660141722,
          2877083.369781896,
          4581552.647308904,
          8612377.595921056,
          8292322.714657423,
          8043360.546081472,
          8950705.837920744,
          8519538.914187945,
          8365553.895374874,
          8321068.189188341,
          8379449.585674319,
          7409857.748607805,
          8045020.818644678,
          8889656.567586228,
          7714489.690018705,
          8384492.324637633,
          8938071.364794914,
          9793952.937601976,
          7731402.849580191,
          8138983.994522914,
          6104285.961590094,
          5225281.592797954,
          2432793.975781664,
          1266604.894978852,
          1828813.466281995,
          2792500.337949225,
          4245141.062821589,
          6622157.782210199,
          6768599.721922773,
          9555328.429570276,
          9774857.108654596,
          7743564.972836006,
          8395270.44028063,
          8401594.591927279,
          8348679.716990948,
          8572323.81209642,
          8873358.922530308,
          8064451.196828347,
          9914861.298724514,
          8000649.345021392,
          10539226.08646485,
          9746296.198758807,
          8473253.504249297,
          8182069.390917242,
          7680059.311851519,
          5834668.23503777,
          4223057.185533839,
          1151274.822593301,
          1777720.446467438,
          2964016.727725274,
          4380074.965366009,
          7459722.596551081,
          7999837.538109974,
          7596316.976583745,
          8546552.990177644,
          9622881.602397276,
          8345774.080341687,
          9090441.21683186,
          8658779.600102933,
          8102172.810849382,
          8679737.280672213,
          7817536.888077945,
          9918910.857892169,
          8022602.385762031,
          7397540.657378515,
          7683370.161163276,
          8027710.364524765,
          8261350.778108379,
          7239740.95989805,
          4994289.15867338,
          3714062.476998214,
          1605146.414835452,
          1929798.094944111,
          3794941.312928192,
          5756295.499305323,
          6261063.636750539,
          8242361.752731767,
          6448631.672230358,
          7335874.021911769,
          9013615.869790839,
          8926449.000458486,
          7744814.658553272,
          7453610.379678748,
          9584038.502063178,
          7664864.268251803,
          9160076.344343051,
          7712348.483958404,
          9082913.19799584,
          8625523.114593167,
          7409015.64746666,
          9079097.534562381,
          7857946.746749904,
          6349713.51245969,
          6071718.603474258,
          3939697.392415076,
          1456749.243632327,
          2020956.667293612,
          2986083.46756535,
          5854242.513344259,
          6762471.640259718,
          10055564.31251803,
          7419249.618824124,
          8913444.963143628,
          7703615.905851013,
          8524858.476800598,
          9467819.245331105,
          8721944.29466503,
          8874451.510119248,
          8177363.2331764,
          7921793.248194879,
          9146627.133938786,
          8750136.982393976,
          8810902.63788067,
          8332126.631111826,
          8270621.955993921,
          9199639.065069009,
          5859119.862209028,
          4728255.458836865,
          3747534.664985501,
          2064199.627864497,
          2126347.733921619,
          3642960.197226621,
          5843777.154330329,
          6882309.752002836,
          8871938.731418464,
          8387993.178152446,
          7660471.929077304,
          8622977.264473025,
          8834101.01239378,
          9004357.200162392,
          8537495.74298547,
          8702316.832862215,
          8047166.066939228,
          8412077.027311165,
          7761114.974029495,
          7432820.500450145,
          9238977.547989275,
          8049503.271205329,
          9625289.80411959,
          7572602.028521596,
          6741650.224389508,
          5304478.661738329,
          2862094.919412719,
          1408594.493372446,
          1179057.213868133,
          4416098.226371597,
          5127914.76406102,
          5747319.711184954,
          7778072.260623639,
          7876136.554114799,
          8267000.942849039,
          7530440.639825238,
          7492127.005447708,
          8157829.175135877,
          8510402.653103132,
          7461632.8204935,
          8366150.217064708,
          8136580.344416112,
          8124838.776166526,
          8537641.754307086,
          7632375.588338277,
          8031361.243847265,
          8387182.438897033,
          8813424.193735115,
          7991640.900321086,
          4783892.846940636,
          3271682.795124349,
          1662693.722901208,
          1588838.313086297,
          3041774.14047949,
          4931343.567169781,
          6287989.798422939,
          9000644.890992928,
          7226945.258894177,
          8171375.134725366,
          9879880.985078238,
          9155803.271237576,
          9015021.61307304,
          10232431.67687332,
          7718660.037740752,
          9079089.107615903,
          8608500.140160717,
          7907753.925607945,
          8279675.399897893,
          8217199.654075851,
          9567958.361413414,
          9055667.460403584,
          9500515.857653018,
          6339914.046270809,
          5359762.399989809,
          2761358.223696601,
          2116395.631021149,
          1128646.293729951,
          3069428.345530673,
          5066448.868550109,
          7216147.684708701,
          7868534.512593915,
          7365756.177962162,
          8878109.477060497,
          8871177.114681855,
          7681259.366900791,
          8794840.794313185,
          8956602.451055557,
          8145680.064251931,
          9105412.895354323,
          7800260.31688176,
          6300477.4519193,
          9459908.021846086,
          7784602.27693871,
          7583000.840752459,
          9254893.62435243,
          8180032.207361209,
          6613879.542347331,
          4679807.930889028,
          4426016.795642223,
          1281839.089859746,
          1314218.086506785,
          2957751.929862213,
          5173008.509904834,
          6285931.783314222,
          7747358.92513748,
          7558032.163131202,
          7745610.551010366,
          9132314.53771215,
          10263779.27175933,
          9513863.88789863,
          8447525.997754054,
          8220378.433560055,
          8643186.064756632,
          7873741.110887087,
          8254336.744137422,
          7860865.265446904,
          6824938.140525909,
          8729250.40382251,
          9125725.549208907,
          7569604.075241609,
          6130581.856670451,
          5177408.190832355,
          3079553.304625198,
          1330731.931326709,
          1752421.880383689,
          2990990.379327417,
          5668138.486498238,
          6538753.439185608,
          7883232.956849758,
          8534354.081930652,
          8802859.787776623,
          8505413.836427882,
          8566905.160438644,
          8049503.616399636,
          8263702.267895897,
          8410052.295749854,
          7698320.263344958,
          8813706.514718262,
          8495887.597159572,
          9537203.220762549,
          8356741.101738604,
          8045948.161964567,
          8308130.493802755,
          8942394.162095869,
          6858360.21643795,
          3191972.598129452,
          3562666.81138629,
          1597755.404880979,
          2275640.929677197,
          3134987.158411457,
          5325877.318689605,
          6789414.566042388,
          8456517.49115533,
          9105477.49279581,
          8880344.402327834,
          9081726.691267563,
          8734044.70824991,
          8314348.387018513,
          7852852.8329625,
          7855366.526696001,
          7301190.290663753,
          9251376.735149547,
          7823234.982545611,
          9388604.862361234,
          8194845.374716315,
          8877405.873825949,
          8392450.830237752,
          7044313.566409707,
          6533910.740327138,
          5022967.904995481,
          2602961.82844539,
          1484127.182438738,
          1708961.683997791,
          3234342.632031616,
          3972094.392199532,
          6132155.443133035,
          9725061.672391307,
          7200652.570260869,
          9009092.929744989,
          7580003.870989889,
          7659566.471527841,
          9040063.500277199,
          8722746.544693824,
          8181105.692004119,
          8812159.313179314,
          9225452.02789237,
          7179276.709468326,
          7060318.710431769,
          10031172.04412034,
          8884642.638603669,
          8837480.976065887,
          8243078.653750138,
          7319834.144557583,
          5482406.464728285,
          3436157.760690567,
          2244296.979367771,
          1873651.176625417,
          2904906.672781209,
          4989465.303156284,
          6628539.666934342,
          8133105.837428526,
          9274036.419585392,
          9054996.770432763,
          8947162.78070273,
          8229630.778205953,
          8301978.800861362,
          7879605.922969803,
          7438256.737122007,
          8521951.781319713,
          7623682.089425396,
          8641977.112340782,
          8640644.434931101,
          8363385.626219423,
          7830199.442301656,
          8645839.19281113,
          7928847.197111975,
          7070167.840056895,
          4733618.493088622,
          2684713.875906345,
          1734113.040569456,
          1847391.175618846,
          3836392.719114659,
          5355116.581431981,
          6769283.770918542,
          8585064.578236256,
          9124413.279195895,
          9044438.528789008,
          8546717.163506053,
          9162047.989483269,
          7476232.572476582,
          9527096.913688626,
          7877973.871604873,
          7426913.045189498,
          7741032.668550616,
          7535703.304226219,
          8297230.507810301,
          7727879.573139335,
          6846811.788007214,
          8535730.094730105,
          9029415.334318949,
          6838065.139625779,
          5112624.459936501,
          3550073.898668838,
          1363741.319162981,
          1895668.692846293,
          3118807.210758327,
          4782393.726814409,
          7311697.692739807,
          8298083.348894366,
          8400443.604119824,
          8329964.947687428,
          7213350.413310976,
          8639791.270716898,
          8171644.846556859,
          7303662.828140586,
          9009076.641848449,
          7502144.623233024,
          7570386.440192385,
          8696641.679585032,
          8681652.235622779,
          8364994.049947483,
          9702959.414220382,
          8822945.918031327,
          9043380.979002075,
          7519714.000065017,
          5106825.75864627,
          3250019.370670862,
          1335696.499411382,
          1552982.336892952,
          3396736.040377155,
          5290430.162366911,
          6694551.325732581,
          9981653.447973408,
          7319198.382474082,
          7525464.828644289,
          8534343.163658347,
          8773325.078924425,
          7370066.613012893,
          7860798.040153034,
          7888712.117403891,
          7321922.351394795,
          6875946.931363475,
          8406966.77847527,
          8465185.596452992,
          8378929.136120014,
          9617891.048223518,
          9002556.310741235,
          8884899.786759226,
          5591609.594026999,
          4962567.317843135,
          3957568.070820095,
          1128040.658532328,
          1651012.92920951,
          4093998.994182338,
          5148838.175232877,
          6964221.242366812,
          9403546.141484484,
          7956028.879293876,
          7880089.294057897,
          7961405.416561619,
          7731353.923426751,
          8640427.847017601,
          7812419.797202436,
          7931270.625966591,
          7259415.975832054,
          7645236.306273019,
          8373093.347524621,
          7847474.357276682,
          6587008.894913667,
          7382804.421642939,
          7713276.514217664,
          8992860.78553188,
          7560003.738805498,
          4535981.956078499,
          3410580.050200521,
          2199422.321363825,
          1086510.165858309,
          3798758.470519408,
          4662232.897473956,
          7900705.59792034,
          8995271.39775087,
          8389022.020936955,
          8660232.685966745,
          7947628.618005522,
          8845101.552917426,
          9228282.493247677,
          8428857.849363487,
          8824182.951427283,
          8907708.272405272,
          8568761.027946405,
          8279365.113203547,
          7750451.013870164,
          9744545.639556374,
          8213780.540075364,
          8363844.526328741,
          9136438.660387855,
          6865324.832559987,
          4862084.696413055,
          4030966.442091221,
          1836118.932314669,
          1886354.089610406,
          3000364.369962454,
          5227906.409504412,
          7196131.876847009,
          7771674.686624133,
          7770438.932567379,
          7861621.479371483,
          9287927.732768932,
          7984521.224945811,
          8507490.806102961,
          8207988.94925218,
          8685446.985233163,
          8391468.645583225,
          8221956.66977082,
          7662470.490305701,
          8259737.434312386,
          8356679.729152758,
          8167004.590623012,
          9090687.150673345,
          8773976.321970426,
          7215748.318028796,
          4695269.720343458,
          2354933.01328171,
          1552256.326245561,
          1698963.38086452,
          3417740.008318759,
          4193227.894256406,
          6568876.093952393,
          7813673.529551429,
          7376986.376784675,
          9010648.643616611,
          9252160.343314482,
          7918975.121252553,
          7993723.746122353,
          8828003.91688399,
          7911823.672323355,
          8341899.062326857,
          7399181.619567324,
          9538023.939029887,
          7296379.271327797,
          8034942.834171259,
          8987542.726756467,
          8238105.203639427,
          8834832.831011077,
          6175518.296651036,
          5312201.730246551,
          3509883.898497846,
          2062930.675945565,
          1879015.838167482,
          2772031.787600564,
          5595661.451940427,
          6910865.894578267,
          7575807.345940548,
          8422723.186129365,
          6798614.339050419,
          8191547.08190658,
          7583381.969336256,
          7197858.472284511,
          8793030.283197705,
          8475430.075360175,
          7940318.340510969,
          7872619.318659795,
          9165038.62435623,
          8246477.866955941,
          7725682.139636318,
          7447206.244324991,
          7269795.249639331,
          8958284.0185503,
          6424769.466413236,
          4393320.723222021,
          3392875.536088592,
          1028192.922452618,
          1448515.664962907,
          3684886.827864551,
          3542829.407519199,
          7097021.359675865,
          7630561.029399217,
          9125081.557440527,
          9672225.357444232,
          9518471.093828524,
          8191429.829265391,
          7218979.740482864,
          9322120.863540933,
          9068308.625689104,
          7796021.127719637,
          7910696.701941218,
          8683076.285810813,
          9006231.506268699,
          7892960.977140877,
          7807203.486722806,
          8252638.353801059,
          8616788.223414088,
          6907372.49048491,
          5393817.50515104,
          3405142.712525388,
          1678472.296839604,
          1847309.696361293,
          2533225.652114077,
          5513278.209687624,
          7738255.061442113,
          7627229.694997574,
          7042894.594561597,
          8288280.435983242,
          7311275.551555416,
          6546958.26119805,
          9007309.859802304,
          8146467.53507644,
          9020525.307078805,
          8537652.982718408,
          8301769.67886956,
          8390944.848906003,
          7382407.143671284,
          7030917.965791672,
          8054029.423960255,
          8051222.752651923,
          6271991.900098501,
          7001675.299826583,
          5325974.044860003,
          2613142.081915089,
          1888286.718914053,
          2555446.110653779,
          2697611.783957494,
          5344701.852604736,
          5864727.202191699,
          7658049.756381043,
          9406738.344743438,
          9680003.268126603,
          8243299.451520603,
          9150890.940774499,
          8657378.373879343,
          8741568.088014988,
          8802982.168051548,
          7807432.155677985,
          7062822.234766533,
          7254410.09889887,
          7234571.539763729,
          8946007.780139301,
          7793895.729740853,
          8771678.278253466,
          7282958.317841525,
          5646703.1004348,
          4927668.183522566,
          4377343.31662083,
          1226321.274648799,
          1467970.708210279,
          4136697.655900685,
          5566980.820172859,
          6928789.725412253,
          7974995.342603317,
          7605180.412587501,
          7237888.075789412,
          7768795.972083008,
          7963664.104139959,
          9104028.604498483,
          8933691.130495913,
          7887735.966793911,
          9024008.442356698,
          9447673.080613911,
          7409904.888955832,
          7749953.044725309,
          8643966.008261092,
          9208266.6962646,
          7122680.183336375,
          8592349.919393178,
          6910007.648377601,
          4920158.507896588,
          3417837.116122403,
          1589985.273735488,
          2189865.314634635,
          2849054.949590623,
          4586996.498901898,
          6263402.873607969,
          7771258.429144531,
          6698122.108399937,
          7244174.268680368,
          8459093.802685661,
          7745206.695822944,
          7637726.680820033,
          8163294.019185924,
          8867093.716460923,
          8451773.191698052,
          8077242.57054415,
          7801864.860400108,
          7695617.767531358,
          7212512.689712206,
          8342745.547295048,
          7275575.980690618,
          8219897.950980594,
          6016970.930174113,
          5115270.843404303,
          2751321.799301151,
          1399212.405638907,
          1271485.625806767,
          3115847.698189951,
          4814577.229387136,
          6745317.233096846,
          8256312.125488241,
          8184753.237289947,
          7719627.530743839,
          7586945.078045907,
          8404324.191815436,
          7576493.976996543,
          9103861.423887806,
          9931654.408329617,
          8221197.240930134,
          7579151.807860954,
          6788238.222794986,
          8737585.663475836,
          8331985.846954905,
          8953077.131600467,
          8720526.398106573,
          7130069.146259777,
          6841408.193928372,
          4849212.301326076,
          3682820.687635474,
          1274622.977400882,
          1495330.900259354,
          3687033.25524046,
          4978955.024283132,
          6357191.96167178,
          8069619.969514295,
          7814112.714873048,
          8700443.864964195,
          8545363.68294644,
          9202643.58191232,
          8605889.373228015,
          7370365.460876206,
          8467143.691355221,
          8292432.056290375,
          8578535.905655641,
          8860221.15575647,
          8611547.983536262,
          7173440.982442598,
          8794678.611808049,
          8221974.588772326,
          7418824.791950299,
          6711744.805091318,
          5794734.791183687,
          3275830.20203739,
          1676258.990733661,
          1495998.116953707,
          2731253.779143756,
          6100667.146330913,
          6542593.449251179,
          9352605.233129377,
          7380702.936801466,
          8446199.517843207,
          8760333.412289282,
          7747596.630253339,
          8272760.351649072,
          8853262.848227587,
          9245829.961789832,
          7909591.88361424,
          8533388.000120455,
          8474995.181016855,
          8006315.106120831,
          8141164.998897416,
          9146552.598670647,
          7629965.150303486,
          7647233.717763485,
          6585358.366816338,
          4474646.377471779,
          3057293.957327696,
          1412622.585301543,
          2049946.129347089,
          3702265.427873887,
          4990868.303969164,
          5894722.111946043,
          6770471.93725532,
          8031774.234052087,
          8110867.939279016,
          8345829.217586013,
          8595588.658922972,
          8712719.548548073,
          8096171.242637751,
          8565289.81651715,
          8886990.680566333,
          8151892.894102807,
          7701331.510994821,
          8618095.981439974,
          8201000.181402938,
          7834045.026438758,
          7201462.595930672,
          7075925.348417428,
          7195070.181950238,
          5580721.907814502,
          3365366.146476014,
          858926.5915326185,
          1655736.343691234,
          3309273.284120976,
          4582282.835574629,
          5255355.851770855,
          7940854.766946195,
          9590845.532797907,
          8429502.167774353,
          8024628.984376947,
          9440372.22755611,
          8531256.65313406,
          10121653.11750962,
          8208040.989217328,
          9824027.387623891,
          7816344.859354608,
          9315168.42574982,
          8095405.918379532,
          9163530.24330842,
          8388890.762875564,
          8269018.02573901,
          8980199.228551084,
          7139595.222987824,
          6411853.44905137,
          3451980.371958935,
          2024032.708041384,
          2342562.372794713,
          3144431.738081706,
          5081308.230101103,
          6922549.466400804,
          7846844.704406733,
          8215173.277532423,
          7711074.068264168,
          7207007.913157474,
          8089945.33692088,
          6585782.229069194,
          8985706.520903692,
          7182660.602316051,
          7961093.779585439,
          6911933.353150398,
          8141354.865302778,
          8396722.038755082,
          8665994.033632461,
          7492832.72974337,
          8702488.903136555,
          6898196.481055732,
          6324622.060069086,
          4567092.529528213,
          2858481.151516555,
          1728654.23904209,
          2227573.851274207,
          3134184.712580113,
          4867982.095717289,
          7681616.711204884,
          8598232.421362454,
          7962696.403427077,
          8719424.705936432,
          8759026.48754043,
          7048465.248308138,
          9945570.756746223,
          7226418.271747728,
          9413282.72281796,
          8093686.01129643,
          8010035.180697369,
          7477042.793816469,
          7954051.915630356,
          9517528.950387826,
          8486518.533288162,
          7578245.791891813,
          8200107.746728661,
          7299029.404986359,
          4868866.588466496,
          2784075.424950526,
          2125606.116287876,
          1789497.739148303,
          4253213.335703178,
          5141545.995341924,
          5841452.012396634,
          9116118.288822252,
          8335127.441015759,
          9160714.728477273,
          8255250.659965971,
          7652414.08129237,
          9633242.615527954,
          8907987.584214874,
          8753991.715201907,
          8932531.329155833,
          8403206.177944323,
          7958162.591961236,
          7557347.472903343,
          8079754.326474465,
          7839615.202854787,
          9638384.643621992,
          7507558.580539306,
          6543725.258975656,
          5636896.095320933,
          3859606.50097648,
          1750626.475347053,
          1555811.304673313,
          3237015.750500595,
          5072154.448615883,
          6198892.826141397,
          8763419.934245463,
          6765021.991155466,
          8327751.928521834,
          9535338.091560539,
          8197965.387530237,
          6835540.487824966,
          8525305.598604461,
          8668654.103933604,
          8053627.465507078,
          7508852.325138414,
          8117696.195276183,
          8874699.66743466,
          7560959.144347165,
          7251489.002008265,
          7453146.655247545,
          8612082.308921725,
          6649611.694003939,
          5165391.44337881,
          4220133.148772194,
          1153257.749031465
         ],
         "yaxis": "y"
        }
       ],
       "layout": {
        "coloraxis": {
         "colorbar": {
          "title": {
           "text": "Number_People_Injured"
          }
         },
         "colorscale": [
          [
           0,
           "#0d0887"
          ],
          [
           0.1111111111111111,
           "#46039f"
          ],
          [
           0.2222222222222222,
           "#7201a8"
          ],
          [
           0.3333333333333333,
           "#9c179e"
          ],
          [
           0.4444444444444444,
           "#bd3786"
          ],
          [
           0.5555555555555556,
           "#d8576b"
          ],
          [
           0.6666666666666666,
           "#ed7953"
          ],
          [
           0.7777777777777778,
           "#fb9f3a"
          ],
          [
           0.8888888888888888,
           "#fdca26"
          ],
          [
           1,
           "#f0f921"
          ]
         ]
        },
        "legend": {
         "itemsizing": "constant",
         "tracegroupgap": 0
        },
        "template": {
         "data": {
          "bar": [
           {
            "error_x": {
             "color": "#2a3f5f"
            },
            "error_y": {
             "color": "#2a3f5f"
            },
            "marker": {
             "line": {
              "color": "#E5ECF6",
              "width": 0.5
             },
             "pattern": {
              "fillmode": "overlay",
              "size": 10,
              "solidity": 0.2
             }
            },
            "type": "bar"
           }
          ],
          "barpolar": [
           {
            "marker": {
             "line": {
              "color": "#E5ECF6",
              "width": 0.5
             },
             "pattern": {
              "fillmode": "overlay",
              "size": 10,
              "solidity": 0.2
             }
            },
            "type": "barpolar"
           }
          ],
          "carpet": [
           {
            "aaxis": {
             "endlinecolor": "#2a3f5f",
             "gridcolor": "white",
             "linecolor": "white",
             "minorgridcolor": "white",
             "startlinecolor": "#2a3f5f"
            },
            "baxis": {
             "endlinecolor": "#2a3f5f",
             "gridcolor": "white",
             "linecolor": "white",
             "minorgridcolor": "white",
             "startlinecolor": "#2a3f5f"
            },
            "type": "carpet"
           }
          ],
          "choropleth": [
           {
            "colorbar": {
             "outlinewidth": 0,
             "ticks": ""
            },
            "type": "choropleth"
           }
          ],
          "contour": [
           {
            "colorbar": {
             "outlinewidth": 0,
             "ticks": ""
            },
            "colorscale": [
             [
              0,
              "#0d0887"
             ],
             [
              0.1111111111111111,
              "#46039f"
             ],
             [
              0.2222222222222222,
              "#7201a8"
             ],
             [
              0.3333333333333333,
              "#9c179e"
             ],
             [
              0.4444444444444444,
              "#bd3786"
             ],
             [
              0.5555555555555556,
              "#d8576b"
             ],
             [
              0.6666666666666666,
              "#ed7953"
             ],
             [
              0.7777777777777778,
              "#fb9f3a"
             ],
             [
              0.8888888888888888,
              "#fdca26"
             ],
             [
              1,
              "#f0f921"
             ]
            ],
            "type": "contour"
           }
          ],
          "contourcarpet": [
           {
            "colorbar": {
             "outlinewidth": 0,
             "ticks": ""
            },
            "type": "contourcarpet"
           }
          ],
          "heatmap": [
           {
            "colorbar": {
             "outlinewidth": 0,
             "ticks": ""
            },
            "colorscale": [
             [
              0,
              "#0d0887"
             ],
             [
              0.1111111111111111,
              "#46039f"
             ],
             [
              0.2222222222222222,
              "#7201a8"
             ],
             [
              0.3333333333333333,
              "#9c179e"
             ],
             [
              0.4444444444444444,
              "#bd3786"
             ],
             [
              0.5555555555555556,
              "#d8576b"
             ],
             [
              0.6666666666666666,
              "#ed7953"
             ],
             [
              0.7777777777777778,
              "#fb9f3a"
             ],
             [
              0.8888888888888888,
              "#fdca26"
             ],
             [
              1,
              "#f0f921"
             ]
            ],
            "type": "heatmap"
           }
          ],
          "heatmapgl": [
           {
            "colorbar": {
             "outlinewidth": 0,
             "ticks": ""
            },
            "colorscale": [
             [
              0,
              "#0d0887"
             ],
             [
              0.1111111111111111,
              "#46039f"
             ],
             [
              0.2222222222222222,
              "#7201a8"
             ],
             [
              0.3333333333333333,
              "#9c179e"
             ],
             [
              0.4444444444444444,
              "#bd3786"
             ],
             [
              0.5555555555555556,
              "#d8576b"
             ],
             [
              0.6666666666666666,
              "#ed7953"
             ],
             [
              0.7777777777777778,
              "#fb9f3a"
             ],
             [
              0.8888888888888888,
              "#fdca26"
             ],
             [
              1,
              "#f0f921"
             ]
            ],
            "type": "heatmapgl"
           }
          ],
          "histogram": [
           {
            "marker": {
             "pattern": {
              "fillmode": "overlay",
              "size": 10,
              "solidity": 0.2
             }
            },
            "type": "histogram"
           }
          ],
          "histogram2d": [
           {
            "colorbar": {
             "outlinewidth": 0,
             "ticks": ""
            },
            "colorscale": [
             [
              0,
              "#0d0887"
             ],
             [
              0.1111111111111111,
              "#46039f"
             ],
             [
              0.2222222222222222,
              "#7201a8"
             ],
             [
              0.3333333333333333,
              "#9c179e"
             ],
             [
              0.4444444444444444,
              "#bd3786"
             ],
             [
              0.5555555555555556,
              "#d8576b"
             ],
             [
              0.6666666666666666,
              "#ed7953"
             ],
             [
              0.7777777777777778,
              "#fb9f3a"
             ],
             [
              0.8888888888888888,
              "#fdca26"
             ],
             [
              1,
              "#f0f921"
             ]
            ],
            "type": "histogram2d"
           }
          ],
          "histogram2dcontour": [
           {
            "colorbar": {
             "outlinewidth": 0,
             "ticks": ""
            },
            "colorscale": [
             [
              0,
              "#0d0887"
             ],
             [
              0.1111111111111111,
              "#46039f"
             ],
             [
              0.2222222222222222,
              "#7201a8"
             ],
             [
              0.3333333333333333,
              "#9c179e"
             ],
             [
              0.4444444444444444,
              "#bd3786"
             ],
             [
              0.5555555555555556,
              "#d8576b"
             ],
             [
              0.6666666666666666,
              "#ed7953"
             ],
             [
              0.7777777777777778,
              "#fb9f3a"
             ],
             [
              0.8888888888888888,
              "#fdca26"
             ],
             [
              1,
              "#f0f921"
             ]
            ],
            "type": "histogram2dcontour"
           }
          ],
          "mesh3d": [
           {
            "colorbar": {
             "outlinewidth": 0,
             "ticks": ""
            },
            "type": "mesh3d"
           }
          ],
          "parcoords": [
           {
            "line": {
             "colorbar": {
              "outlinewidth": 0,
              "ticks": ""
             }
            },
            "type": "parcoords"
           }
          ],
          "pie": [
           {
            "automargin": true,
            "type": "pie"
           }
          ],
          "scatter": [
           {
            "fillpattern": {
             "fillmode": "overlay",
             "size": 10,
             "solidity": 0.2
            },
            "type": "scatter"
           }
          ],
          "scatter3d": [
           {
            "line": {
             "colorbar": {
              "outlinewidth": 0,
              "ticks": ""
             }
            },
            "marker": {
             "colorbar": {
              "outlinewidth": 0,
              "ticks": ""
             }
            },
            "type": "scatter3d"
           }
          ],
          "scattercarpet": [
           {
            "marker": {
             "colorbar": {
              "outlinewidth": 0,
              "ticks": ""
             }
            },
            "type": "scattercarpet"
           }
          ],
          "scattergeo": [
           {
            "marker": {
             "colorbar": {
              "outlinewidth": 0,
              "ticks": ""
             }
            },
            "type": "scattergeo"
           }
          ],
          "scattergl": [
           {
            "marker": {
             "colorbar": {
              "outlinewidth": 0,
              "ticks": ""
             }
            },
            "type": "scattergl"
           }
          ],
          "scattermapbox": [
           {
            "marker": {
             "colorbar": {
              "outlinewidth": 0,
              "ticks": ""
             }
            },
            "type": "scattermapbox"
           }
          ],
          "scatterpolar": [
           {
            "marker": {
             "colorbar": {
              "outlinewidth": 0,
              "ticks": ""
             }
            },
            "type": "scatterpolar"
           }
          ],
          "scatterpolargl": [
           {
            "marker": {
             "colorbar": {
              "outlinewidth": 0,
              "ticks": ""
             }
            },
            "type": "scatterpolargl"
           }
          ],
          "scatterternary": [
           {
            "marker": {
             "colorbar": {
              "outlinewidth": 0,
              "ticks": ""
             }
            },
            "type": "scatterternary"
           }
          ],
          "surface": [
           {
            "colorbar": {
             "outlinewidth": 0,
             "ticks": ""
            },
            "colorscale": [
             [
              0,
              "#0d0887"
             ],
             [
              0.1111111111111111,
              "#46039f"
             ],
             [
              0.2222222222222222,
              "#7201a8"
             ],
             [
              0.3333333333333333,
              "#9c179e"
             ],
             [
              0.4444444444444444,
              "#bd3786"
             ],
             [
              0.5555555555555556,
              "#d8576b"
             ],
             [
              0.6666666666666666,
              "#ed7953"
             ],
             [
              0.7777777777777778,
              "#fb9f3a"
             ],
             [
              0.8888888888888888,
              "#fdca26"
             ],
             [
              1,
              "#f0f921"
             ]
            ],
            "type": "surface"
           }
          ],
          "table": [
           {
            "cells": {
             "fill": {
              "color": "#EBF0F8"
             },
             "line": {
              "color": "white"
             }
            },
            "header": {
             "fill": {
              "color": "#C8D4E3"
             },
             "line": {
              "color": "white"
             }
            },
            "type": "table"
           }
          ]
         },
         "layout": {
          "annotationdefaults": {
           "arrowcolor": "#2a3f5f",
           "arrowhead": 0,
           "arrowwidth": 1
          },
          "autotypenumbers": "strict",
          "coloraxis": {
           "colorbar": {
            "outlinewidth": 0,
            "ticks": ""
           }
          },
          "colorscale": {
           "diverging": [
            [
             0,
             "#8e0152"
            ],
            [
             0.1,
             "#c51b7d"
            ],
            [
             0.2,
             "#de77ae"
            ],
            [
             0.3,
             "#f1b6da"
            ],
            [
             0.4,
             "#fde0ef"
            ],
            [
             0.5,
             "#f7f7f7"
            ],
            [
             0.6,
             "#e6f5d0"
            ],
            [
             0.7,
             "#b8e186"
            ],
            [
             0.8,
             "#7fbc41"
            ],
            [
             0.9,
             "#4d9221"
            ],
            [
             1,
             "#276419"
            ]
           ],
           "sequential": [
            [
             0,
             "#0d0887"
            ],
            [
             0.1111111111111111,
             "#46039f"
            ],
            [
             0.2222222222222222,
             "#7201a8"
            ],
            [
             0.3333333333333333,
             "#9c179e"
            ],
            [
             0.4444444444444444,
             "#bd3786"
            ],
            [
             0.5555555555555556,
             "#d8576b"
            ],
            [
             0.6666666666666666,
             "#ed7953"
            ],
            [
             0.7777777777777778,
             "#fb9f3a"
            ],
            [
             0.8888888888888888,
             "#fdca26"
            ],
            [
             1,
             "#f0f921"
            ]
           ],
           "sequentialminus": [
            [
             0,
             "#0d0887"
            ],
            [
             0.1111111111111111,
             "#46039f"
            ],
            [
             0.2222222222222222,
             "#7201a8"
            ],
            [
             0.3333333333333333,
             "#9c179e"
            ],
            [
             0.4444444444444444,
             "#bd3786"
            ],
            [
             0.5555555555555556,
             "#d8576b"
            ],
            [
             0.6666666666666666,
             "#ed7953"
            ],
            [
             0.7777777777777778,
             "#fb9f3a"
            ],
            [
             0.8888888888888888,
             "#fdca26"
            ],
            [
             1,
             "#f0f921"
            ]
           ]
          },
          "colorway": [
           "#636efa",
           "#EF553B",
           "#00cc96",
           "#ab63fa",
           "#FFA15A",
           "#19d3f3",
           "#FF6692",
           "#B6E880",
           "#FF97FF",
           "#FECB52"
          ],
          "font": {
           "color": "#2a3f5f"
          },
          "geo": {
           "bgcolor": "white",
           "lakecolor": "white",
           "landcolor": "#E5ECF6",
           "showlakes": true,
           "showland": true,
           "subunitcolor": "white"
          },
          "hoverlabel": {
           "align": "left"
          },
          "hovermode": "closest",
          "mapbox": {
           "style": "light"
          },
          "paper_bgcolor": "white",
          "plot_bgcolor": "#E5ECF6",
          "polar": {
           "angularaxis": {
            "gridcolor": "white",
            "linecolor": "white",
            "ticks": ""
           },
           "bgcolor": "#E5ECF6",
           "radialaxis": {
            "gridcolor": "white",
            "linecolor": "white",
            "ticks": ""
           }
          },
          "scene": {
           "xaxis": {
            "backgroundcolor": "#E5ECF6",
            "gridcolor": "white",
            "gridwidth": 2,
            "linecolor": "white",
            "showbackground": true,
            "ticks": "",
            "zerolinecolor": "white"
           },
           "yaxis": {
            "backgroundcolor": "#E5ECF6",
            "gridcolor": "white",
            "gridwidth": 2,
            "linecolor": "white",
            "showbackground": true,
            "ticks": "",
            "zerolinecolor": "white"
           },
           "zaxis": {
            "backgroundcolor": "#E5ECF6",
            "gridcolor": "white",
            "gridwidth": 2,
            "linecolor": "white",
            "showbackground": true,
            "ticks": "",
            "zerolinecolor": "white"
           }
          },
          "shapedefaults": {
           "line": {
            "color": "#2a3f5f"
           }
          },
          "ternary": {
           "aaxis": {
            "gridcolor": "white",
            "linecolor": "white",
            "ticks": ""
           },
           "baxis": {
            "gridcolor": "white",
            "linecolor": "white",
            "ticks": ""
           },
           "bgcolor": "#E5ECF6",
           "caxis": {
            "gridcolor": "white",
            "linecolor": "white",
            "ticks": ""
           }
          },
          "title": {
           "x": 0.05
          },
          "xaxis": {
           "automargin": true,
           "gridcolor": "white",
           "linecolor": "white",
           "ticks": "",
           "title": {
            "standoff": 15
           },
           "zerolinecolor": "white",
           "zerolinewidth": 2
          },
          "yaxis": {
           "automargin": true,
           "gridcolor": "white",
           "linecolor": "white",
           "ticks": "",
           "title": {
            "standoff": 15
           },
           "zerolinecolor": "white",
           "zerolinewidth": 2
          }
         }
        },
        "title": {
         "text": "Impacto Financeiro dos Acidentes"
        },
        "xaxis": {
         "anchor": "y",
         "domain": [
          0,
          1
         ],
         "title": {
          "text": "Number_Vehicles_Involved"
         }
        },
        "yaxis": {
         "anchor": "x",
         "domain": [
          0,
          1
         ],
         "title": {
          "text": "Economic_Loss"
         }
        }
       }
      }
     },
     "metadata": {},
     "output_type": "display_data"
    }
   ],
   "source": [
    "df_gastos = pd.read_excel(\"acidentes_analise.xlsx\", sheet_name=\"Total_gasto\")\n",
    "\n",
    "fig = px.scatter(df_gastos, x=\"Number_Vehicles_Involved\", y=\"Economic_Loss\", size=\"Medical_Cost\", \n",
    "                 color=\"Number_People_Injured\", title=\"Impacto Financeiro dos Acidentes\")\n",
    "\n",
    "fig.show()\n"
   ]
  }
 ],
 "metadata": {
  "kernelspec": {
   "display_name": "Python 3",
   "language": "python",
   "name": "python3"
  },
  "language_info": {
   "codemirror_mode": {
    "name": "ipython",
    "version": 3
   },
   "file_extension": ".py",
   "mimetype": "text/x-python",
   "name": "python",
   "nbconvert_exporter": "python",
   "pygments_lexer": "ipython3",
   "version": "3.12.6"
  }
 },
 "nbformat": 4,
 "nbformat_minor": 2
}
